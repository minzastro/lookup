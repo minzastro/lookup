{
 "cells": [
  {
   "cell_type": "code",
   "execution_count": 1,
   "metadata": {
    "execution": {
     "iopub.execute_input": "2022-01-03T22:20:49.009954Z",
     "iopub.status.busy": "2022-01-03T22:20:49.009699Z",
     "iopub.status.idle": "2022-01-03T22:20:49.057852Z",
     "shell.execute_reply": "2022-01-03T22:20:49.057330Z",
     "shell.execute_reply.started": "2022-01-03T22:20:49.009892Z"
    }
   },
   "outputs": [],
   "source": [
    "import casjobs"
   ]
  },
  {
   "cell_type": "code",
   "execution_count": 49,
   "metadata": {
    "execution": {
     "iopub.execute_input": "2022-01-04T07:55:28.141292Z",
     "iopub.status.busy": "2022-01-04T07:55:28.140458Z",
     "iopub.status.idle": "2022-01-04T07:55:28.150059Z",
     "shell.execute_reply": "2022-01-04T07:55:28.148296Z",
     "shell.execute_reply.started": "2022-01-04T07:55:28.141217Z"
    },
    "tags": []
   },
   "outputs": [],
   "source": [
    "cas = casjobs.CasJobs(userid=1137344703, password='ShboomXa', \n",
    "                      base_url=\"http://mastweb.stsci.edu/gcasjobs/services/jobs.asmx\")"
   ]
  },
  {
   "cell_type": "code",
   "execution_count": 3,
   "metadata": {
    "execution": {
     "iopub.execute_input": "2022-01-03T22:21:31.727348Z",
     "iopub.status.busy": "2022-01-03T22:21:31.726897Z",
     "iopub.status.idle": "2022-01-03T22:21:31.731988Z",
     "shell.execute_reply": "2022-01-03T22:21:31.731126Z",
     "shell.execute_reply.started": "2022-01-03T22:21:31.727308Z"
    }
   },
   "outputs": [],
   "source": [
    "query = \"\"\"SELECT 60 * n.distance, o.ra, o.dec, class, o.specObjID, survey, o.plate, o.z from fGetNearbySpecObjAllEq(200.74949, -47.491288, 10.0 / 60.)  n join SpecObjAll o on o.specObjID = n.specObjID order by 1\"\"\""
   ]
  },
  {
   "cell_type": "code",
   "execution_count": 4,
   "metadata": {
    "execution": {
     "iopub.execute_input": "2022-01-03T22:21:32.623635Z",
     "iopub.status.busy": "2022-01-03T22:21:32.623430Z",
     "iopub.status.idle": "2022-01-03T22:21:32.671218Z",
     "shell.execute_reply": "2022-01-03T22:21:32.670412Z",
     "shell.execute_reply.started": "2022-01-03T22:21:32.623619Z"
    }
   },
   "outputs": [
    {
     "ename": "TypeError",
     "evalue": "monitor() missing 1 required positional argument: 'job_id'",
     "output_type": "error",
     "traceback": [
      "\u001b[0;31m---------------------------------------------------------------------------\u001b[0m",
      "\u001b[0;31mTypeError\u001b[0m                                 Traceback (most recent call last)",
      "\u001b[0;32m/tmp/ipykernel_13376/723703016.py\u001b[0m in \u001b[0;36m<module>\u001b[0;34m\u001b[0m\n\u001b[0;32m----> 1\u001b[0;31m \u001b[0mcas\u001b[0m\u001b[0;34m.\u001b[0m\u001b[0mmonitor\u001b[0m\u001b[0;34m(\u001b[0m\u001b[0;34m)\u001b[0m\u001b[0;34m\u001b[0m\u001b[0;34m\u001b[0m\u001b[0m\n\u001b[0m",
      "\u001b[0;31mTypeError\u001b[0m: monitor() missing 1 required positional argument: 'job_id'"
     ]
    }
   ],
   "source": [
    "cas.monitor()"
   ]
  },
  {
   "cell_type": "code",
   "execution_count": 5,
   "metadata": {
    "execution": {
     "iopub.execute_input": "2022-01-03T22:21:38.543111Z",
     "iopub.status.busy": "2022-01-03T22:21:38.542858Z",
     "iopub.status.idle": "2022-01-03T22:21:38.840619Z",
     "shell.execute_reply": "2022-01-03T22:21:38.837240Z",
     "shell.execute_reply.started": "2022-01-03T22:21:38.543088Z"
    }
   },
   "outputs": [
    {
     "name": "stdout",
     "output_type": "stream",
     "text": [
      "http://skyserver.sdss.org/casjobs/services/jobs.asmx {'qry': 'SELECT 60 * n.distance, o.ra, o.dec, class, o.specObjID, survey, o.plate, o.z from fGetNearbySpecObjAllEq(200.74949, -47.491288, 10.0 / 60.)  n join SpecObjAll o on o.specObjID = n.specObjID order by 1', 'context': 'DR14', 'taskname': 'quickie', 'isSystem': False}\n"
     ]
    },
    {
     "ename": "Exception",
     "evalue": "ExecuteQuickJob failed with status: 500",
     "output_type": "error",
     "traceback": [
      "\u001b[0;31m---------------------------------------------------------------------------\u001b[0m",
      "\u001b[0;31mException\u001b[0m                                 Traceback (most recent call last)",
      "\u001b[0;32m/tmp/ipykernel_13376/4060825689.py\u001b[0m in \u001b[0;36m<module>\u001b[0;34m\u001b[0m\n\u001b[0;32m----> 1\u001b[0;31m \u001b[0mjob_id\u001b[0m \u001b[0;34m=\u001b[0m \u001b[0mcas\u001b[0m\u001b[0;34m.\u001b[0m\u001b[0mquick\u001b[0m\u001b[0;34m(\u001b[0m\u001b[0mquery\u001b[0m\u001b[0;34m,\u001b[0m \u001b[0mcontext\u001b[0m\u001b[0;34m=\u001b[0m\u001b[0;34m'DR14'\u001b[0m\u001b[0;34m)\u001b[0m\u001b[0;34m\u001b[0m\u001b[0;34m\u001b[0m\u001b[0m\n\u001b[0m",
      "\u001b[0;32m/usr/local/lib/python3.8/site-packages/casjobs.py\u001b[0m in \u001b[0;36mquick\u001b[0;34m(self, q, context, task_name)\u001b[0m\n\u001b[1;32m    109\u001b[0m                 \"isSystem\": False}\n\u001b[1;32m    110\u001b[0m         \u001b[0mprint\u001b[0m\u001b[0;34m(\u001b[0m\u001b[0mself\u001b[0m\u001b[0;34m.\u001b[0m\u001b[0mbase_url\u001b[0m\u001b[0;34m,\u001b[0m \u001b[0mparams\u001b[0m\u001b[0;34m)\u001b[0m\u001b[0;34m\u001b[0m\u001b[0;34m\u001b[0m\u001b[0m\n\u001b[0;32m--> 111\u001b[0;31m         \u001b[0mr\u001b[0m \u001b[0;34m=\u001b[0m \u001b[0mself\u001b[0m\u001b[0;34m.\u001b[0m\u001b[0m_send_request\u001b[0m\u001b[0;34m(\u001b[0m\u001b[0;34m\"ExecuteQuickJob\"\u001b[0m\u001b[0;34m,\u001b[0m \u001b[0mparams\u001b[0m\u001b[0;34m=\u001b[0m\u001b[0mparams\u001b[0m\u001b[0;34m)\u001b[0m\u001b[0;34m\u001b[0m\u001b[0;34m\u001b[0m\u001b[0m\n\u001b[0m\u001b[1;32m    112\u001b[0m         \u001b[0;32mreturn\u001b[0m \u001b[0mself\u001b[0m\u001b[0;34m.\u001b[0m\u001b[0m_parse_single\u001b[0m\u001b[0;34m(\u001b[0m\u001b[0mr\u001b[0m\u001b[0;34m.\u001b[0m\u001b[0mtext\u001b[0m\u001b[0;34m,\u001b[0m \u001b[0;34m\"string\"\u001b[0m\u001b[0;34m)\u001b[0m\u001b[0;34m\u001b[0m\u001b[0;34m\u001b[0m\u001b[0m\n\u001b[1;32m    113\u001b[0m \u001b[0;34m\u001b[0m\u001b[0m\n",
      "\u001b[0;32m/usr/local/lib/python3.8/site-packages/casjobs.py\u001b[0m in \u001b[0;36m_send_request\u001b[0;34m(self, job_type, params)\u001b[0m\n\u001b[1;32m     68\u001b[0m         \u001b[0mcode\u001b[0m \u001b[0;34m=\u001b[0m \u001b[0mr\u001b[0m\u001b[0;34m.\u001b[0m\u001b[0mstatus_code\u001b[0m\u001b[0;34m\u001b[0m\u001b[0;34m\u001b[0m\u001b[0m\n\u001b[1;32m     69\u001b[0m         \u001b[0;32mif\u001b[0m \u001b[0mcode\u001b[0m \u001b[0;34m!=\u001b[0m \u001b[0;36m200\u001b[0m\u001b[0;34m:\u001b[0m\u001b[0;34m\u001b[0m\u001b[0;34m\u001b[0m\u001b[0m\n\u001b[0;32m---> 70\u001b[0;31m             \u001b[0;32mraise\u001b[0m \u001b[0mException\u001b[0m\u001b[0;34m(\u001b[0m\u001b[0;34m\"%s failed with status: %d\"\u001b[0m\u001b[0;34m%\u001b[0m\u001b[0;34m(\u001b[0m\u001b[0mjob_type\u001b[0m\u001b[0;34m,\u001b[0m \u001b[0mcode\u001b[0m\u001b[0;34m)\u001b[0m\u001b[0;34m)\u001b[0m\u001b[0;34m\u001b[0m\u001b[0;34m\u001b[0m\u001b[0m\n\u001b[0m\u001b[1;32m     71\u001b[0m \u001b[0;34m\u001b[0m\u001b[0m\n\u001b[1;32m     72\u001b[0m         \u001b[0;32mreturn\u001b[0m \u001b[0mr\u001b[0m\u001b[0;34m\u001b[0m\u001b[0;34m\u001b[0m\u001b[0m\n",
      "\u001b[0;31mException\u001b[0m: ExecuteQuickJob failed with status: 500"
     ]
    }
   ],
   "source": [
    "job_id = cas.quick(query, context='DR14')"
   ]
  },
  {
   "cell_type": "code",
   "execution_count": 6,
   "metadata": {
    "execution": {
     "iopub.execute_input": "2022-01-03T22:22:04.486529Z",
     "iopub.status.busy": "2022-01-03T22:22:04.486023Z",
     "iopub.status.idle": "2022-01-03T22:22:04.488788Z",
     "shell.execute_reply": "2022-01-03T22:22:04.488290Z",
     "shell.execute_reply.started": "2022-01-03T22:22:04.486510Z"
    }
   },
   "outputs": [],
   "source": [
    "import requests"
   ]
  },
  {
   "cell_type": "code",
   "execution_count": 34,
   "metadata": {
    "execution": {
     "iopub.execute_input": "2022-01-03T22:35:12.344617Z",
     "iopub.status.busy": "2022-01-03T22:35:12.343310Z",
     "iopub.status.idle": "2022-01-03T22:35:12.356290Z",
     "shell.execute_reply": "2022-01-03T22:35:12.355200Z",
     "shell.execute_reply.started": "2022-01-03T22:35:12.344497Z"
    },
    "tags": []
   },
   "outputs": [],
   "source": [
    "params = {\n",
    "    'wsid': 1442727981,\n",
    "    'pw': 'ShboomXa',\n",
    "    'estimate': 1,\n",
    "    'qry': 'SELECT 60 * n.distance, o.ra, o.dec, Tmag, o.e_Tmag from fGetNearbyObjEq(200.74949, -47.491288, 10.0 / 60.)  n join catalogRecord o on o.objID = n.objID order by 1', \n",
    "    'context': 'TESS_v7', 'taskname': 'quickie', 'isSystem': False}\n"
   ]
  },
  {
   "cell_type": "code",
   "execution_count": 45,
   "metadata": {
    "execution": {
     "iopub.execute_input": "2022-01-04T07:53:53.255124Z",
     "iopub.status.busy": "2022-01-04T07:53:53.254891Z",
     "iopub.status.idle": "2022-01-04T07:54:00.120863Z",
     "shell.execute_reply": "2022-01-04T07:54:00.118703Z",
     "shell.execute_reply.started": "2022-01-04T07:53:53.255103Z"
    },
    "tags": []
   },
   "outputs": [],
   "source": [
    "r = requests.get(\"http://mastweb.stsci.edu/gcasjobs/services/jobs.asmx/GetJobs\", params={ 'owner_wsid': 1442727981,\n",
    "    'owner_pw': 'ShboomXa', 'conditions': '', 'includeSystem': False})"
   ]
  },
  {
   "cell_type": "code",
   "execution_count": 47,
   "metadata": {
    "execution": {
     "iopub.execute_input": "2022-01-04T07:54:54.506339Z",
     "iopub.status.busy": "2022-01-04T07:54:54.506152Z",
     "iopub.status.idle": "2022-01-04T07:54:55.104575Z",
     "shell.execute_reply": "2022-01-04T07:54:55.102376Z",
     "shell.execute_reply.started": "2022-01-04T07:54:54.506323Z"
    },
    "tags": []
   },
   "outputs": [],
   "source": [
    "r = requests.get(\"http://mastweb.stsci.edu/gcasjobs/services/jobs.asmx/ExecuteQuickJob\", params=params)"
   ]
  },
  {
   "cell_type": "code",
   "execution_count": 48,
   "metadata": {
    "execution": {
     "iopub.execute_input": "2022-01-04T07:54:59.979141Z",
     "iopub.status.busy": "2022-01-04T07:54:59.978856Z",
     "iopub.status.idle": "2022-01-04T07:54:59.981898Z",
     "shell.execute_reply": "2022-01-04T07:54:59.981390Z",
     "shell.execute_reply.started": "2022-01-04T07:54:59.979118Z"
    }
   },
   "outputs": [
    {
     "name": "stdout",
     "output_type": "stream",
     "text": [
      "<?xml version=\"1.0\" encoding=\"utf-8\"?>\n",
      "<string xmlns=\"http://Services.Cas.jhu.edu\">[Column1]:Float,[ra]:Float,[dec]:Float,[Tmag]:Float,[e_Tmag]:Float\n",
      "6.94655357261595,200.75195,-47.492268,16.384,0.023\n",
      "8.64049820760636,200.747609,-47.493324,17.464,0.064\n",
      "</string>\n"
     ]
    }
   ],
   "source": [
    "print(r.text)"
   ]
  },
  {
   "cell_type": "code",
   "execution_count": 14,
   "metadata": {
    "execution": {
     "iopub.execute_input": "2022-01-03T22:25:17.610226Z",
     "iopub.status.busy": "2022-01-03T22:25:17.609977Z",
     "iopub.status.idle": "2022-01-03T22:25:18.078417Z",
     "shell.execute_reply": "2022-01-03T22:25:18.077753Z",
     "shell.execute_reply.started": "2022-01-03T22:25:17.610204Z"
    },
    "tags": []
   },
   "outputs": [],
   "source": [
    "from SciServer import Authentication, LoginPortal, Config, CasJobs, SkyQuery, SciDrive, SkyServer, Files, Jobs"
   ]
  },
  {
   "cell_type": "code",
   "execution_count": 17,
   "metadata": {
    "execution": {
     "iopub.execute_input": "2022-01-03T22:27:10.659877Z",
     "iopub.status.busy": "2022-01-03T22:27:10.659654Z",
     "iopub.status.idle": "2022-01-03T22:27:11.541303Z",
     "shell.execute_reply": "2022-01-03T22:27:11.540750Z",
     "shell.execute_reply.started": "2022-01-03T22:27:10.659857Z"
    },
    "tags": []
   },
   "outputs": [],
   "source": [
    "token1 = Authentication.login('minzastro', params['pw']);"
   ]
  },
  {
   "cell_type": "code",
   "execution_count": 23,
   "metadata": {
    "execution": {
     "iopub.execute_input": "2022-01-03T22:29:42.084828Z",
     "iopub.status.busy": "2022-01-03T22:29:42.084029Z",
     "iopub.status.idle": "2022-01-03T22:29:49.597437Z",
     "shell.execute_reply": "2022-01-03T22:29:49.596627Z",
     "shell.execute_reply.started": "2022-01-03T22:29:42.084753Z"
    },
    "tags": []
   },
   "outputs": [
    {
     "name": "stdout",
     "output_type": "stream",
     "text": [
      "Empty DataFrame\n",
      "Columns: [Column1, ra, dec, class, specObjID, survey, plate, z]\n",
      "Index: []\n"
     ]
    }
   ],
   "source": [
    "df = CasJobs.executeQuery(sql=params['qry'], context='DR14', format=\"pandas\")\n",
    "print(df)\n"
   ]
  },
  {
   "cell_type": "code",
   "execution_count": 38,
   "metadata": {
    "execution": {
     "iopub.execute_input": "2022-01-03T22:39:07.291011Z",
     "iopub.status.busy": "2022-01-03T22:39:07.290210Z",
     "iopub.status.idle": "2022-01-03T22:39:09.782653Z",
     "shell.execute_reply": "2022-01-03T22:39:09.781385Z",
     "shell.execute_reply.started": "2022-01-03T22:39:07.290939Z"
    }
   },
   "outputs": [
    {
     "name": "stdout",
     "output_type": "stream",
     "text": [
      "['BEFS', 'EUVE', 'FUSE', 'GALEX', 'HLA', 'HLSP', 'HST', 'HUT', 'IUE', 'JWST', 'K2', 'K2FFI', 'Kepler', 'KeplerFFI', 'PS1', 'SPITZER_SHA', 'SWIFT', 'TESS', 'TUES', 'WUPPE']\n"
     ]
    }
   ],
   "source": [
    "from astroquery.mast import Observations\n",
    "\n",
    "print(Observations.list_missions())"
   ]
  },
  {
   "cell_type": "code",
   "execution_count": 55,
   "metadata": {
    "execution": {
     "iopub.execute_input": "2022-01-04T07:58:53.633689Z",
     "iopub.status.busy": "2022-01-04T07:58:53.633429Z",
     "iopub.status.idle": "2022-01-04T07:58:53.637114Z",
     "shell.execute_reply": "2022-01-04T07:58:53.636606Z",
     "shell.execute_reply.started": "2022-01-04T07:58:53.633664Z"
    },
    "tags": []
   },
   "outputs": [],
   "source": [
    "sdss_params = {\n",
    "    'wsid': 1137344703,\n",
    "    'pw': 'ShboomXa',\n",
    "    'estimate': 1,\n",
    "    'qry': 'SELECT 60 * n.distance, o.ra, o.dec, class, o.specObjID, survey, o.plate, o.z from fGetNearbySpecObjAllEq({0}, {1}, {2} / 60.)  n join SpecObjAll o on o.specObjID = n.specObjID order by 1', \n",
    "    'context': 'DR16', 'taskname': 'quickie', 'isSystem': False}\n"
   ]
  },
  {
   "cell_type": "code",
   "execution_count": 56,
   "metadata": {
    "execution": {
     "iopub.execute_input": "2022-01-04T07:58:54.179577Z",
     "iopub.status.busy": "2022-01-04T07:58:54.178784Z",
     "iopub.status.idle": "2022-01-04T07:58:54.615007Z",
     "shell.execute_reply": "2022-01-04T07:58:54.614493Z",
     "shell.execute_reply.started": "2022-01-04T07:58:54.179503Z"
    },
    "tags": []
   },
   "outputs": [],
   "source": [
    "r = requests.get(\"http://skyserver.sdss.org/casjobs/services/jobs.asmx/ExecuteQuickJob\", params=sdss_params)"
   ]
  },
  {
   "cell_type": "code",
   "execution_count": 57,
   "metadata": {
    "execution": {
     "iopub.execute_input": "2022-01-04T07:58:54.615897Z",
     "iopub.status.busy": "2022-01-04T07:58:54.615751Z",
     "iopub.status.idle": "2022-01-04T07:58:54.619076Z",
     "shell.execute_reply": "2022-01-04T07:58:54.618426Z",
     "shell.execute_reply.started": "2022-01-04T07:58:54.615882Z"
    },
    "tags": []
   },
   "outputs": [
    {
     "name": "stdout",
     "output_type": "stream",
     "text": [
      "System.Exception: Cannot get database contexts from RACM. Keystone token is not defined. \n",
      "   at edu.jhu.Cas.Users.CasUsers.GetDatabaseContexts() in D:\\Projects\\CasJobs-racm\\users\\CasUsers.asmx.cs:line 138\n",
      "   at edu.jhu.Cas.Servers.CasServers.FindTargets(Int64 wsid, Int64 usrwsid) in D:\\Projects\\CasJobs-racm\\servers\\CasServers.cs:line 191\n",
      "   at edu.jhu.Cas.Servers.CasServers.CheckContextAccess(Int64 wsid, String context) in D:\\Projects\\CasJobs-racm\\servers\\CasServers.cs:line 220\n",
      "   at edu.jhu.Cas.Servers.CasServers.ClosestQueue(Int64 wsid, Int64 usrwsid, String target, Int64 estimate, Boolean checkContextAccess) in D:\\Projects\\CasJobs-racm\\servers\\CasServers.cs:line 237\n",
      "   at edu.jhu.Cas.Jobs.CasJobs.getVirtualHostAndMyDBServer(Int64 wsid, String target, Int32 queue, Boolean checkContextAccess) in D:\\Projects\\CasJobs-racm\\jobs\\CasJobs.asmx.cs:line 183\n",
      "   at edu.jhu.Cas.Jobs.CasJobs.SubmitShortJob(Int64 wsid, String qry, String target, String taskname, Int32 autocomplete) in D:\\Projects\\CasJobs-racm\\jobs\\CasJobs.asmx.cs:line 200\n",
      "   at edu.jhu.Cas.Services.Jobs.ExecuteQuickJob(Int64 wsid, String pw, String qry, String context, String taskname, Boolean isSystem) in D:\\Projects\\CasJobs-racm\\services\\jobs.asmx.cs:line 58\n",
      "\n"
     ]
    }
   ],
   "source": [
    "print(r.text)"
   ]
  },
  {
   "cell_type": "code",
   "execution_count": null,
   "metadata": {},
   "outputs": [],
   "source": []
  }
 ],
 "metadata": {
  "kernelspec": {
   "display_name": "Python 3",
   "language": "python",
   "name": "python3"
  },
  "language_info": {
   "codemirror_mode": {
    "name": "ipython",
    "version": 3
   },
   "file_extension": ".py",
   "mimetype": "text/x-python",
   "name": "python",
   "nbconvert_exporter": "python",
   "pygments_lexer": "ipython3",
   "version": "3.8.6"
  },
  "varInspector": {
   "cols": {
    "lenName": "25",
    "lenType": "25",
    "lenVar": "150"
   },
   "kernels_config": {
    "python": {
     "delete_cmd_postfix": "",
     "delete_cmd_prefix": "del ",
     "library": "var_list.py",
     "varRefreshCmd": "print(var_dic_list())"
    },
    "r": {
     "delete_cmd_postfix": ") ",
     "delete_cmd_prefix": "rm(",
     "library": "var_list.r",
     "varRefreshCmd": "cat(var_dic_list()) "
    }
   },
   "types_to_exclude": [
    "module",
    "function",
    "builtin_function_or_method",
    "instance",
    "_Feature"
   ],
   "window_display": true
  }
 },
 "nbformat": 4,
 "nbformat_minor": 4
}
