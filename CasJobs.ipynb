{
 "cells": [
  {
   "cell_type": "code",
   "execution_count": 1,
   "metadata": {},
   "outputs": [],
   "source": [
    "import casjobs"
   ]
  },
  {
   "cell_type": "code",
   "execution_count": 10,
   "metadata": {},
   "outputs": [],
   "source": [
    "cas = casjobs.CasJobs(userid=1442727981, password='ShboomXa', \n",
    "                      base_url=\"http://mastweb.stsci.edu/gcasjobs/services/jobs.asmx\")"
   ]
  },
  {
   "cell_type": "code",
   "execution_count": 11,
   "metadata": {},
   "outputs": [],
   "source": [
    "query = \"\"\"SELECT * from finalCmd\"\"\""
   ]
  },
  {
   "cell_type": "code",
   "execution_count": 9,
   "metadata": {},
   "outputs": [
    {
     "ename": "TypeError",
     "evalue": "monitor() missing 1 required positional argument: 'job_id'",
     "output_type": "error",
     "traceback": [
      "\u001b[0;31m---------------------------------------------------------------------------\u001b[0m",
      "\u001b[0;31mTypeError\u001b[0m                                 Traceback (most recent call last)",
      "\u001b[0;32m<ipython-input-9-ecbf62fe5c0a>\u001b[0m in \u001b[0;36m<module>\u001b[0;34m()\u001b[0m\n\u001b[0;32m----> 1\u001b[0;31m \u001b[0mcas\u001b[0m\u001b[0;34m.\u001b[0m\u001b[0mmonitor\u001b[0m\u001b[0;34m(\u001b[0m\u001b[0;34m)\u001b[0m\u001b[0;34m\u001b[0m\u001b[0m\n\u001b[0m",
      "\u001b[0;31mTypeError\u001b[0m: monitor() missing 1 required positional argument: 'job_id'"
     ]
    }
   ],
   "source": [
    "cas.monitor()"
   ]
  },
  {
   "cell_type": "code",
   "execution_count": 13,
   "metadata": {},
   "outputs": [],
   "source": [
    "job_id = cas.quick(query, context='GALEX_GR6Plus7')"
   ]
  },
  {
   "cell_type": "code",
   "execution_count": 12,
   "metadata": {},
   "outputs": [],
   "source": [
    "from astropy.table import Table"
   ]
  },
  {
   "cell_type": "code",
   "execution_count": 15,
   "metadata": {},
   "outputs": [],
   "source": [
    "import csv"
   ]
  },
  {
   "cell_type": "code",
   "execution_count": 18,
   "metadata": {},
   "outputs": [
    {
     "data": {
      "text/plain": [
       "7251"
      ]
     },
     "execution_count": 18,
     "metadata": {},
     "output_type": "execute_result"
    }
   ],
   "source": [
    "len(job_id)"
   ]
  },
  {
   "cell_type": "code",
   "execution_count": 19,
   "metadata": {},
   "outputs": [
    {
     "name": "stdout",
     "output_type": "stream",
     "text": [
      "['[id]:String', '[FieldName]:String', '[unit]:String', '[DataType]:String', '[width]:String', '[precision]:String', '[FieldDescription]:String', '[UCD]:String', '[ucd1plus]:String', '[utype]:String', '[ref]:String']\n",
      "['source_id', 'source_id', '', 'long', '', '', 'Source ID', 'ID_MAIN', 'meta.id;meta.main', 'caom:gaia.catalogEntity.id', '']\n",
      "['random_index', 'random_index', '', 'long', '', '', 'Random index', 'ID_CODE', 'meta.code', '', '']\n",
      "['dec_error', 'dec_error', 'mas', 'double', '', '', 'dec error', 'ERROR', 'stat.error;pos.eq.dec', '', '']\n",
      "['parallax_error', 'parallax_error', 'mas', 'double', '', '', 'parallax error', 'ERROR', 'stat.error;pos.parallax', '', '']\n",
      "['pmra', 'pmra', 'mas/yr', 'double', '', '', 'ra proper motion', 'POS_EQ_PMRA', 'pos.pm;pos.eq.ra', '', '']\n",
      "['pmdec_error', 'pmdec_error', 'mas/yr', 'double', '', '', 'dec proper motion error', 'ERROR', 'stat.error;pos.pm;pos.eq.dec', '', '']\n",
      "['ra_dec_corr', 'ra_dec_corr', '', 'float', '', '', 'Correlation ra/dec', 'STAT_CORRELATION', 'stat.correlation', '', '']\n",
      "['ra_parallax_corr', 'ra_parallax_corr', '', 'float', '', '', 'Correlation ra/parallax', 'STAT_CORRELATION', 'stat.correlation', '', '']\n",
      "['ra_pmra_corr', 'ra_pmra_corr', '', 'float', '', '', 'Correlation ra/pmra', 'STAT_CORRELATION', 'stat.correlation', '', '']\n",
      "['dec_parallax_corr', 'dec_parallax_corr', '', 'float', '', '', 'Correlation dec/parallax', 'STAT_CORRELATION', 'stat.correlation', '', '']\n",
      "['dec_pmra_corr', 'dec_pmra_corr', '', 'float', '', '', 'Correlation dec/pmra', 'STAT_CORRELATION', 'stat.correlation', '', '']\n",
      "['parallax_pmdec_corr', 'parallax_pmdec_corr', '', 'float', '', '', 'Correlation parallax/pmdec', 'STAT_CORRELATION', 'stat.correlation', '', '']\n",
      "['pmra_pmdec_corr', 'pmra_pmdec_corr', '', 'float', '', '', 'Correlation pmra/pmdec', 'STAT_CORRELATION', 'stat.correlation', '', '']\n",
      "['astrometric_n_obs_al', 'astrometric_n_obs_al', '', 'int', '', '', 'Total AL observations', 'NUMBER', 'meta.number', '', '']\n",
      "['astrometric_n_good_al', 'astrometric_n_good_al', '', 'int', '', '', 'Good AL observations', 'NUMBER', 'meta.number', '', '']\n",
      "['astrometric_n_bad_al', 'astrometric_n_bad_al', '', 'int', '', '', 'Bad AL observations', 'NUMBER', 'meta.number', '', '']\n",
      "['astrometric_delta_q', 'astrometric_delta_q', '', 'float', '', '', 'Hip/Gaia data discrepancy', 'STAT_PARAM', 'stat.value', '', '']\n",
      "['astrometric_excess_noise_sig', 'astrometric_excess_noise_sig', '', 'float', '', '', 'Excess noise sig', 'STAT_PARAM', 'stat.value', '', '']\n",
      "['astrometric_weight_ac', 'astrometric_weight_ac', '', 'float', '', '', 'Weight in AC direction', 'STAT_MEAN', 'stat.weight;stat.mean', '', '']\n",
      "['astrometric_priors_used', 'astrometric_priors_used', '', 'int', '', '', 'Type of priors used', 'CODE_MISC', 'meta.code', '', '']\n",
      "['matched_observations', 'matched_observations', '', 'int', '', '', 'Observations matched', 'NUMBER', 'meta.number', '', '']\n",
      "['duplicated_source', 'duplicated_source', '', 'bool', '', '', 'Duplicated source', 'CODE_MISC', 'meta.code', '', '']\n",
      "['scan_direction_strength_k1', 'scan_direction_strength_k1', '', 'float', '', '', 'Measure of scan distrib', 'STAT_DISP', 'stat.filling', '', '']\n",
      "['scan_direction_strength_k3', 'scan_direction_strength_k3', '', 'float', '', '', 'Measure of scan distrib', 'STAT_DISP', 'stat.filling', '', '']\n",
      "['scan_direction_mean_k1', 'scan_direction_mean_k1', '', 'float', '', '', 'Measure of scan distrib', 'STAT_DISP', 'stat.filling', '', '']\n",
      "['scan_direction_mean_k3', 'scan_direction_mean_k3', '', 'float', '', '', 'Measure of scan distrib', 'STAT_DISP', 'stat.filling', '', '']\n",
      "['phot_g_mean_flux', 'phot_g_mean_flux', 'counts/s', 'float', '', '', 'G band mean flux', 'PHOT_FLUX', 'phot.flux;stat.mean;em.opt', '', '']\n",
      "['phot_g_mean_mag', 'phot_g_mean_mag', 'mag', 'float', '', '', 'G band mag', 'PHOT_MAG', 'phot.mag;stat.mean;em.opt', 'caom:gaia.catalogEntity.mag', '']\n",
      "['phot_variable_flag', 'phot_variable_flag', '', 'char', '', '', 'Variability Flag', 'CODE_MISC', 'meta.code;src.var', '', '']\n",
      "['l', 'l', 'deg', 'double', '', '', 'Galactic long.', 'POS_GAL_LONG', 'pos.galactic.long', '', '']\n",
      "['b', 'b', 'deg', 'double', '', '', 'Galactic lat.', 'POS_GAL_LAT', 'pos.galactic.lat', '', '']\n",
      "['Ecl_Lon', 'Ecl_Lon', 'deg', 'double', '', '', 'Ecliptic long.', 'POS_EC_LONG', 'pos.ecliptic.long', '', '']\n",
      "['hip', 'hip', '', 'int', '', '', 'Hipparcos ID', 'ID_CROSS', 'meta.id.cross', '', '']\n",
      "['tycho2_id', 'tycho2_id', '', 'char', '', '', 'Tycho2 ID', 'ID_CROSS', 'meta.id.cross', '', '']\n",
      "['solution_id', 'solution_id', '', 'long', '', '', 'Catalog Version', 'ID_VERSION', 'meta.id;meta.version', '', '']\n",
      "['ref_epoch', 'ref_epoch', '', 'double', '', '', 'Ref. epoch Julian Year', 'TIME_EPOCH', 'meta.ref;time.epoch', '', '']\n",
      "['ra', 'ra', 'deg', 'double', '', '', 'Right Ascension (ICRS)', 'POS_EQ_RA_MAIN', 'pos.eq.ra;meta.main', 'caom:tgas.catalogEntity.ra', '']\n",
      "['ra_error', 'ra_error', 'mas', 'double', '', '', 'ra error', 'ERROR', 'stat.error;pos.eq.ra', '', '']\n",
      "['dec', 'DEC', 'deg', 'double', '', '', 'Declination (ICRS)', 'POS_EQ_DEC_MAIN', 'pos.eq.dec;meta.main', 'caom:tgas.catalogEntity.dec', '']\n",
      "['parallax', 'parallax', 'mas', 'double', '', '', 'parallax', 'POS_PARLX', 'pos.parallax', '', '']\n",
      "['pmra_error', 'pmra_error', 'mas/yr', 'double', '', '', 'ra proper motion error', 'ERROR', 'stat.error;pos.pm;pos.eq.ra', '', '']\n",
      "['pmdec', 'pmdec', 'mas/yr', 'double', '', '', 'dec proper motion', 'POS_EQ_PMDEC', 'pos.pm;pos.eq.dec', '', '']\n",
      "['ra_pmdec_corr', 'ra_pmdec_corr', '', 'float', '', '', 'Correlation ra/pmdec', 'STAT_CORRELATION', 'stat.correlation', '', '']\n",
      "['dec_pmdec_corr', 'dec_pmdec_corr', '', 'float', '', '', 'Correlation dec/pmdec', 'STAT_CORRELATION', 'stat.correlation', '', '']\n",
      "['parallax_pmra_corr', 'parallax_pmra_corr', '', 'float', '', '', 'Correlation parallax/pmra', 'STAT_CORRELATION', 'stat.correlation', '', '']\n",
      "['astrometric_n_obs_ac', 'astrometric_n_obs_ac', '', 'int', '', '', 'Total AC observations', 'NUMBER', 'meta.number', '', '']\n",
      "['astrometric_n_good_ac', 'astrometric_n_good_ac', '', 'int', '', '', 'Good AC observations', 'NUMBER', 'meta.number', '', '']\n",
      "['astrometric_n_bad_ac', 'astrometric_n_bad_ac', '', 'int', '', '', 'Bad AC observations', 'NUMBER', 'meta.number', '', '']\n",
      "['astrometric_excess_noise', 'astrometric_excess_noise', '', 'float', '', '', 'Source excess noise', 'STAT_PARAM', 'stat.value', '', '']\n",
      "['astrometric_primary_flag', 'astrometric_primary_flag', '', 'bool', '', '', 'Astrometric Flag', 'CODE_MISC', 'meta.code', '', '']\n",
      "['astrometric_relegation_factor', 'astrometric_relegation_factor', '', 'float', '', '', 'Relegation factor', 'REDUCT_PARAM', 'arith.factor', '', '']\n",
      "['astrometric_weight_al', 'astrometric_weight_al', '', 'float', '', '', 'Weight in AL direction', 'STAT_MEAN', 'stat.weight;stat.mean', '', '']\n",
      "['scan_direction_strength_k2', 'scan_direction_strength_k2', '', 'float', '', '', 'Measure of scan distrib', 'STAT_DISP', 'stat.filling', '', '']\n",
      "['scan_direction_strength_k4', 'scan_direction_strength_k4', '', 'float', '', '', 'Measure of scan distrib', 'STAT_DISP', 'stat.filling', '', '']\n",
      "['scan_direction_mean_k2', 'scan_direction_mean_k2', '', 'float', '', '', 'Measure of scan distrib', 'STAT_DISP', 'stat.filling', '', '']\n",
      "['scan_direction_mean_k4', 'scan_direction_mean_k4', '', 'float', '', '', 'Measure of scan distrib', 'STAT_DISP', 'stat.filling', '', '']\n",
      "['phot_g_n_obs', 'phot_g_n_obs', '', 'int', '', '', 'N Observations for phot', 'NUMBER', 'meta.number', '', '']\n",
      "['phot_g_mean_flux_error', 'phot_g_mean_flux_error', 'counts/s', 'float', '', '', 'G band flux error', 'ERROR', 'stat.error;phot.flux;stat.mean;em.opt', '', '']\n",
      "['Ecl_Lat', 'Ecl_Lat', 'deg', 'double', '', '', 'Ecliptic lat.', 'POS_EC_LAT', 'pos.ecliptic.lat', '', '']\n",
      "['mag', 'mag', 'mag', 'float', '', '', 'best mag', 'PHOT_MAG', 'phot.mag', '', '']\n",
      "['distance', 'distance', '', 'float', '', '', 'object distance', 'POS_ANG_DIST', 'pos.angDistance', '', '']\n",
      "['objID', 'objID', '', 'long', '', '', 'Database ID', 'ID_DATABASE', 'meta.record', '', '']\n",
      "[]\n"
     ]
    }
   ],
   "source": [
    "for row in csv.reader(job_id.split('\\n')):\n",
    "    print(row)"
   ]
  },
  {
   "cell_type": "code",
   "execution_count": null,
   "metadata": {},
   "outputs": [],
   "source": []
  }
 ],
 "metadata": {
  "kernelspec": {
   "display_name": "Python 3",
   "language": "python",
   "name": "python3"
  },
  "language_info": {
   "codemirror_mode": {
    "name": "ipython",
    "version": 3
   },
   "file_extension": ".py",
   "mimetype": "text/x-python",
   "name": "python",
   "nbconvert_exporter": "python",
   "pygments_lexer": "ipython3",
   "version": "3.6.1"
  },
  "varInspector": {
   "cols": {
    "lenName": "25",
    "lenType": "25",
    "lenVar": "150"
   },
   "kernels_config": {
    "python": {
     "delete_cmd_postfix": "",
     "delete_cmd_prefix": "del ",
     "library": "var_list.py",
     "varRefreshCmd": "print(var_dic_list())"
    },
    "r": {
     "delete_cmd_postfix": ") ",
     "delete_cmd_prefix": "rm(",
     "library": "var_list.r",
     "varRefreshCmd": "cat(var_dic_list()) "
    }
   },
   "types_to_exclude": [
    "module",
    "function",
    "builtin_function_or_method",
    "instance",
    "_Feature"
   ],
   "window_display": true
  }
 },
 "nbformat": 4,
 "nbformat_minor": 2
}
