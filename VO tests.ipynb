{
 "cells": [
  {
   "cell_type": "code",
   "execution_count": 1,
   "metadata": {
    "execution": {
     "iopub.execute_input": "2022-01-04T15:01:01.608727Z",
     "iopub.status.busy": "2022-01-04T15:01:01.608473Z",
     "iopub.status.idle": "2022-01-04T15:01:02.299754Z",
     "shell.execute_reply": "2022-01-04T15:01:02.299202Z",
     "shell.execute_reply.started": "2022-01-04T15:01:01.608679Z"
    },
    "tags": []
   },
   "outputs": [],
   "source": [
    "from providers.obslog import ObsLogLookup"
   ]
  },
  {
   "cell_type": "code",
   "execution_count": 2,
   "metadata": {
    "execution": {
     "iopub.execute_input": "2022-01-04T15:01:02.300726Z",
     "iopub.status.busy": "2022-01-04T15:01:02.300505Z",
     "iopub.status.idle": "2022-01-04T15:01:02.303349Z",
     "shell.execute_reply": "2022-01-04T15:01:02.302802Z",
     "shell.execute_reply.started": "2022-01-04T15:01:02.300711Z"
    },
    "tags": []
   },
   "outputs": [],
   "source": [
    "oll = ObsLogLookup()"
   ]
  },
  {
   "cell_type": "code",
   "execution_count": 3,
   "metadata": {
    "execution": {
     "iopub.execute_input": "2022-01-04T15:01:02.801113Z",
     "iopub.status.busy": "2022-01-04T15:01:02.800760Z",
     "iopub.status.idle": "2022-01-04T15:01:02.811298Z",
     "shell.execute_reply": "2022-01-04T15:01:02.810740Z",
     "shell.execute_reply.started": "2022-01-04T15:01:02.801065Z"
    },
    "tags": []
   },
   "outputs": [
    {
     "data": {
      "text/plain": [
       "{'ESOLog': {'url': 'http://archive.eso.org/tap_obs',\n",
       "  'columns': 'dataproduct_type, dataproduct_subtype,facility_name, instrument_name, obs_collection, filter,access_estsize, access_url'},\n",
       " 'Canadian': {'url': 'http://www.cadc-ccda.hia-iha.nrc-cnrc.gc.ca/tap/',\n",
       "  'columns': 'distinct obs_collection,facility_name,instrument_name,target_name'}}"
      ]
     },
     "execution_count": 3,
     "metadata": {},
     "output_type": "execute_result"
    }
   ],
   "source": [
    "oll.CATALOGS"
   ]
  },
  {
   "cell_type": "code",
   "execution_count": 4,
   "metadata": {
    "execution": {
     "iopub.execute_input": "2022-01-04T15:01:03.769920Z",
     "iopub.status.busy": "2022-01-04T15:01:03.769585Z",
     "iopub.status.idle": "2022-01-04T15:01:03.773246Z",
     "shell.execute_reply": "2022-01-04T15:01:03.772557Z",
     "shell.execute_reply.started": "2022-01-04T15:01:03.769897Z"
    },
    "tags": []
   },
   "outputs": [],
   "source": [
    "from astroquery.utils.tap.core import TapPlus, Tap"
   ]
  },
  {
   "cell_type": "code",
   "execution_count": 7,
   "metadata": {
    "execution": {
     "iopub.execute_input": "2022-01-05T14:17:22.501601Z",
     "iopub.status.busy": "2022-01-05T14:17:22.494451Z",
     "iopub.status.idle": "2022-01-05T14:17:22.552252Z",
     "shell.execute_reply": "2022-01-05T14:17:22.548761Z",
     "shell.execute_reply.started": "2022-01-05T14:17:22.501355Z"
    },
    "tags": []
   },
   "outputs": [
    {
     "name": "stdout",
     "output_type": "stream",
     "text": [
      "Created TAP+ (v1.2.1) - Connection:\n",
      "\tHost: datalab.noirlab.edu\n",
      "\tUse HTTPS: True\n",
      "\tPort: 443\n",
      "\tSSL Port: 443\n"
     ]
    }
   ],
   "source": [
    "#tap = Tap(oll.CATALOGS['Canadian']['url'] + 'argus/')\n",
    "tap = TapPlus('https://datalab.noirlab.edu/tap')"
   ]
  },
  {
   "cell_type": "code",
   "execution_count": 8,
   "metadata": {
    "execution": {
     "iopub.execute_input": "2020-08-20T15:39:48.906772Z",
     "iopub.status.busy": "2020-08-20T15:39:48.906547Z",
     "iopub.status.idle": "2020-08-20T15:39:48.909591Z",
     "shell.execute_reply": "2020-08-20T15:39:48.908882Z",
     "shell.execute_reply.started": "2020-08-20T15:39:48.906739Z"
    }
   },
   "outputs": [],
   "source": [
    "sql = oll._prepare_sql('Canadian', 200, -45, 10)"
   ]
  },
  {
   "cell_type": "code",
   "execution_count": 16,
   "metadata": {
    "execution": {
     "iopub.execute_input": "2022-01-05T14:19:05.751038Z",
     "iopub.status.busy": "2022-01-05T14:19:05.750497Z",
     "iopub.status.idle": "2022-01-05T14:19:06.564697Z",
     "shell.execute_reply": "2022-01-05T14:19:06.564103Z",
     "shell.execute_reply.started": "2022-01-05T14:19:05.751018Z"
    },
    "tags": []
   },
   "outputs": [
    {
     "name": "stdout",
     "output_type": "stream",
     "text": [
      "Launched query: 'SELECT\n",
      "   *\n",
      "   FROM decaps_dr1.object\n",
      "   WHERE ra between 270.8942697814087 - 0.1 and 270.8942697814087 + 0.1\n",
      "and dec between -30.05126856254036 - 0.1 and -30.05126856254036 + 0.1\n",
      "and mean_mag_g < 21.5'\n",
      "------>https\n",
      "host = datalab.noirlab.edu:443\n",
      "context = /tap/async\n",
      "Content-type = application/x-www-form-urlencoded\n",
      "400 Bad Request\n",
      "[('Date', 'Wed, 05 Jan 2022 14:19:06 GMT'), ('Server', 'Restlet-Framework/2.0.2'), ('Accept-Ranges', 'bytes'), ('Content-Type', 'text/plain;charset=UTF-8'), ('Content-Length', '107'), ('Connection', 'close')]\n",
      "ERROR: 400: Bad Request\n"
     ]
    },
    {
     "ename": "HTTPError",
     "evalue": "Bad Request",
     "output_type": "error",
     "traceback": [
      "\u001b[0;31m---------------------------------------------------------------------------\u001b[0m",
      "\u001b[0;31mHTTPError\u001b[0m                                 Traceback (most recent call last)",
      "\u001b[0;32m/tmp/ipykernel_1492/1103089331.py\u001b[0m in \u001b[0;36m<module>\u001b[0;34m\u001b[0m\n\u001b[0;32m----> 1\u001b[0;31m job = tap.launch_job_async(\"\"\"SELECT\n\u001b[0m\u001b[1;32m      2\u001b[0m    \u001b[0;34m*\u001b[0m\u001b[0;34m\u001b[0m\u001b[0;34m\u001b[0m\u001b[0m\n\u001b[1;32m      3\u001b[0m    \u001b[0mFROM\u001b[0m \u001b[0mdecaps_dr1\u001b[0m\u001b[0;34m.\u001b[0m\u001b[0mobject\u001b[0m\u001b[0;34m\u001b[0m\u001b[0;34m\u001b[0m\u001b[0m\n\u001b[1;32m      4\u001b[0m    \u001b[0mWHERE\u001b[0m \u001b[0mra\u001b[0m \u001b[0mbetween\u001b[0m \u001b[0;36m270.8942697814087\u001b[0m \u001b[0;34m-\u001b[0m \u001b[0;36m0.1\u001b[0m \u001b[0;32mand\u001b[0m \u001b[0;36m270.8942697814087\u001b[0m \u001b[0;34m+\u001b[0m \u001b[0;36m0.1\u001b[0m\u001b[0;34m\u001b[0m\u001b[0;34m\u001b[0m\u001b[0m\n\u001b[1;32m      5\u001b[0m \u001b[0;32mand\u001b[0m \u001b[0mdec\u001b[0m \u001b[0mbetween\u001b[0m \u001b[0;34m-\u001b[0m\u001b[0;36m30.05126856254036\u001b[0m \u001b[0;34m-\u001b[0m \u001b[0;36m0.1\u001b[0m \u001b[0;32mand\u001b[0m \u001b[0;34m-\u001b[0m\u001b[0;36m30.05126856254036\u001b[0m \u001b[0;34m+\u001b[0m \u001b[0;36m0.1\u001b[0m\u001b[0;34m\u001b[0m\u001b[0;34m\u001b[0m\u001b[0m\n",
      "\u001b[0;32m/usr/local/lib/python3.8/site-packages/astroquery/utils/tap/core.py\u001b[0m in \u001b[0;36mlaunch_job_async\u001b[0;34m(self, query, name, output_file, output_format, verbose, dump_to_file, background, upload_resource, upload_table_name, autorun)\u001b[0m\n\u001b[1;32m    422\u001b[0m                 self.__connHandler.dump_to_file(suitableOutputFile,\n\u001b[1;32m    423\u001b[0m                                                 response)\n\u001b[0;32m--> 424\u001b[0;31m             \u001b[0;32mraise\u001b[0m \u001b[0mrequests\u001b[0m\u001b[0;34m.\u001b[0m\u001b[0mexceptions\u001b[0m\u001b[0;34m.\u001b[0m\u001b[0mHTTPError\u001b[0m\u001b[0;34m(\u001b[0m\u001b[0mresponse\u001b[0m\u001b[0;34m.\u001b[0m\u001b[0mreason\u001b[0m\u001b[0;34m)\u001b[0m\u001b[0;34m\u001b[0m\u001b[0;34m\u001b[0m\u001b[0m\n\u001b[0m\u001b[1;32m    425\u001b[0m         \u001b[0;32melse\u001b[0m\u001b[0;34m:\u001b[0m\u001b[0;34m\u001b[0m\u001b[0;34m\u001b[0m\u001b[0m\n\u001b[1;32m    426\u001b[0m             location = self.__connHandler.find_header(\n",
      "\u001b[0;31mHTTPError\u001b[0m: Bad Request"
     ]
    }
   ],
   "source": [
    "job = tap.launch_job_async(\"\"\"SELECT\n",
    "   *\n",
    "   FROM decaps_dr1.object\n",
    "   WHERE ra between 270.8942697814087 - 0.1 and 270.8942697814087 + 0.1\n",
    "and dec between -30.05126856254036 - 0.1 and -30.05126856254036 + 0.1\n",
    "and mean_mag_g < 21.5\"\"\", name=\"test\", verbose=True)"
   ]
  },
  {
   "cell_type": "markdown",
   "metadata": {
    "execution": {
     "iopub.execute_input": "2022-01-05T14:18:44.484347Z",
     "iopub.status.busy": "2022-01-05T14:18:44.484006Z",
     "iopub.status.idle": "2022-01-05T14:18:44.488214Z",
     "shell.execute_reply": "2022-01-05T14:18:44.487717Z",
     "shell.execute_reply.started": "2022-01-05T14:18:44.484329Z"
    },
    "tags": []
   },
   "source": [
    "## job.async_"
   ]
  },
  {
   "cell_type": "code",
   "execution_count": 11,
   "metadata": {
    "execution": {
     "iopub.execute_input": "2022-01-05T14:17:58.797928Z",
     "iopub.status.busy": "2022-01-05T14:17:58.795952Z",
     "iopub.status.idle": "2022-01-05T14:17:58.871381Z",
     "shell.execute_reply": "2022-01-05T14:17:58.871023Z",
     "shell.execute_reply.started": "2022-01-05T14:17:58.797846Z"
    },
    "tags": []
   },
   "outputs": [
    {
     "data": {
      "text/html": [
       "<i>Table length=2000</i>\n",
       "<table id=\"table139748711177328\" class=\"table-striped table-bordered table-condensed\">\n",
       "<thead><tr><th>_id</th><th>obj_id</th><th>ra</th><th>dec</th><th>epochrange</th><th>epochmean</th><th>elon</th><th>elat</th><th>glon</th><th>glat</th><th>ra_ok</th><th>dec_ok</th><th>epochrange_ok</th><th>epochmean_ok</th><th>htm9</th><th>ring256</th><th>nest4096</th><th>random_id</th><th>mean_mag_g_r</th><th>mean_mag_r_i</th><th>mean_mag_i_z</th><th>mean_mag_z_y</th><th>median_mag_g_r</th><th>median_mag_r_i</th><th>median_mag_i_z</th><th>median_mag_z_y</th><th>mean_g</th><th>mean_r</th><th>mean_i</th><th>mean_z</th><th>mean_y</th><th>mean_mag_g</th><th>mean_mag_r</th><th>mean_mag_i</th><th>mean_mag_z</th><th>mean_mag_y</th><th>stdev_g</th><th>stdev_r</th><th>stdev_i</th><th>stdev_z</th><th>stdev_y</th><th>err_g</th><th>err_r</th><th>err_i</th><th>err_z</th><th>err_y</th><th>median_g</th><th>median_r</th><th>median_i</th><th>median_z</th><th>median_y</th><th>median_mag_g</th><th>median_mag_r</th><th>median_mag_i</th><th>median_mag_z</th><th>median_mag_y</th><th>posstdev</th><th>posstdev_ok</th><th>q25_g</th><th>q25_r</th><th>q25_i</th><th>q25_z</th><th>q25_y</th><th>q75_g</th><th>q75_r</th><th>q75_i</th><th>q75_z</th><th>q75_y</th><th>mean_lbs_g</th><th>mean_lbs_r</th><th>mean_lbs_i</th><th>mean_lbs_z</th><th>mean_lbs_y</th><th>stdev_lbs_g</th><th>stdev_lbs_r</th><th>stdev_lbs_i</th><th>stdev_lbs_z</th><th>stdev_lbs_y</th><th>err_lbs_g</th><th>err_lbs_r</th><th>err_lbs_i</th><th>err_lbs_z</th><th>err_lbs_y</th><th>median_lbs_g</th><th>median_lbs_r</th><th>median_lbs_i</th><th>median_lbs_z</th><th>median_lbs_y</th><th>q25_lbs_g</th><th>q25_lbs_r</th><th>q25_lbs_i</th><th>q25_lbs_z</th><th>q25_lbs_y</th><th>q75_lbs_g</th><th>q75_lbs_r</th><th>q75_lbs_i</th><th>q75_lbs_z</th><th>q75_lbs_y</th><th>maglimit_g</th><th>maglimit_r</th><th>maglimit_i</th><th>maglimit_z</th><th>maglimit_y</th><th>fracflux_g</th><th>fracflux_r</th><th>fracflux_i</th><th>fracflux_z</th><th>fracflux_y</th><th>ndet</th><th>ndet_ok</th><th>nmag_g</th><th>nmag_r</th><th>nmag_i</th><th>nmag_z</th><th>nmag_y</th><th>nmag_ok_g</th><th>nmag_ok_r</th><th>nmag_ok_i</th><th>nmag_ok_z</th><th>nmag_ok_y</th><th>ndet_lbs</th><th>ndet_lbs_ok</th><th>nmag_lbs_g</th><th>nmag_lbs_r</th><th>nmag_lbs_i</th><th>nmag_lbs_z</th><th>nmag_lbs_y</th><th>nmag_lbs_ok_g</th><th>nmag_lbs_ok_r</th><th>nmag_lbs_ok_i</th><th>nmag_lbs_ok_z</th><th>nmag_lbs_ok_y</th></tr></thead>\n",
       "<thead><tr><th></th><th></th><th>degrees</th><th>degrees</th><th></th><th></th><th>degrees</th><th>degrees</th><th>degrees</th><th>degrees</th><th>degrees</th><th>degrees</th><th></th><th></th><th></th><th></th><th></th><th></th><th></th><th></th><th></th><th></th><th></th><th></th><th></th><th></th><th></th><th></th><th></th><th></th><th></th><th></th><th></th><th></th><th></th><th></th><th></th><th></th><th></th><th></th><th></th><th></th><th></th><th></th><th></th><th></th><th></th><th></th><th></th><th></th><th></th><th></th><th></th><th></th><th></th><th></th><th>arcsec</th><th>arcsec</th><th></th><th></th><th></th><th></th><th></th><th></th><th></th><th></th><th></th><th></th><th></th><th></th><th></th><th></th><th></th><th></th><th></th><th></th><th></th><th></th><th></th><th></th><th></th><th></th><th></th><th></th><th></th><th></th><th></th><th></th><th></th><th></th><th></th><th></th><th></th><th></th><th></th><th></th><th></th><th></th><th></th><th></th><th></th><th></th><th></th><th></th><th></th><th></th><th></th><th></th><th></th><th></th><th></th><th></th><th></th><th></th><th></th><th></th><th></th><th></th><th></th><th></th><th></th><th></th><th></th><th></th><th></th><th></th><th></th><th></th><th></th><th></th><th></th><th></th></tr></thead>\n",
       "<thead><tr><th>int64</th><th>int64</th><th>str1</th><th>str1</th><th>str1</th><th>str1</th><th>str1</th><th>str1</th><th>str1</th><th>str1</th><th>str1</th><th>str1</th><th>str1</th><th>str1</th><th>int32</th><th>int32</th><th>int32</th><th>float32</th><th>float32</th><th>float32</th><th>float32</th><th>float32</th><th>float32</th><th>float32</th><th>float32</th><th>float32</th><th>float32</th><th>float32</th><th>float32</th><th>float32</th><th>float32</th><th>float32</th><th>float32</th><th>float32</th><th>float32</th><th>float32</th><th>float32</th><th>float32</th><th>float32</th><th>float32</th><th>float32</th><th>float32</th><th>float32</th><th>float32</th><th>float32</th><th>float32</th><th>float32</th><th>float32</th><th>float32</th><th>float32</th><th>float32</th><th>float32</th><th>float32</th><th>float32</th><th>float32</th><th>float32</th><th>float32</th><th>float32</th><th>float32</th><th>float32</th><th>float32</th><th>float32</th><th>float32</th><th>float32</th><th>float32</th><th>float32</th><th>float32</th><th>float32</th><th>float32</th><th>float32</th><th>float32</th><th>float32</th><th>float32</th><th>float32</th><th>float32</th><th>float32</th><th>float32</th><th>float32</th><th>float32</th><th>float32</th><th>float32</th><th>float32</th><th>float32</th><th>float32</th><th>float32</th><th>float32</th><th>float32</th><th>float32</th><th>float32</th><th>float32</th><th>float32</th><th>float32</th><th>float32</th><th>float32</th><th>float32</th><th>float32</th><th>float32</th><th>float32</th><th>float32</th><th>float32</th><th>float32</th><th>float32</th><th>float32</th><th>float32</th><th>float32</th><th>float32</th><th>float32</th><th>float32</th><th>int16</th><th>int16</th><th>int16</th><th>int16</th><th>int16</th><th>int16</th><th>int16</th><th>int16</th><th>int16</th><th>int16</th><th>int16</th><th>int16</th><th>int16</th><th>int16</th><th>int16</th><th>int16</th><th>int16</th><th>int16</th><th>int16</th><th>int16</th><th>int16</th><th>int16</th><th>int16</th><th>int16</th></tr></thead>\n",
       "<tr><td>-5187583820767379778</td><td>-5151537431559559991</td><td>2</td><td>-</td><td>9</td><td>5</td><td>2</td><td>-</td><td>0</td><td>-</td><td>2</td><td>-</td><td>9</td><td>5</td><td>2909817</td><td>591106</td><td>117875569</td><td>31.233246</td><td>1.317314</td><td>0.57839</td><td>0.295116</td><td>0.15893</td><td>1.314627</td><td>0.587353</td><td>0.294716</td><td>0.15843</td><td>0.0</td><td>0.0</td><td>0.0</td><td>0.0</td><td>0.0</td><td>21.312351</td><td>19.995037</td><td>19.416647</td><td>19.12153</td><td>18.9626</td><td>0.0</td><td>0.0</td><td>0.0</td><td>0.0</td><td>0.0</td><td>0.0</td><td>0.0</td><td>0.0</td><td>0.0</td><td>0.0</td><td>0.0</td><td>0.0</td><td>0.0</td><td>0.0</td><td>0.0</td><td>21.316668</td><td>20.00204</td><td>19.414688</td><td>19.119972</td><td>18.961542</td><td>0.075167</td><td>0.075167</td><td>0.0</td><td>0.0</td><td>0.0</td><td>0.0</td><td>0.0</td><td>0.0</td><td>0.0</td><td>0.0</td><td>0.0</td><td>0.0</td><td>0.0</td><td>0.0</td><td>0.0</td><td>0.0</td><td>0.0</td><td>0.0</td><td>0.0</td><td>0.0</td><td>0.0</td><td>0.0</td><td>0.0</td><td>0.0</td><td>0.0</td><td>0.0</td><td>0.0</td><td>0.0</td><td>0.0</td><td>0.0</td><td>0.0</td><td>0.0</td><td>0.0</td><td>0.0</td><td>0.0</td><td>0.0</td><td>0.0</td><td>0.0</td><td>0.0</td><td>0.0</td><td>0.0</td><td>0.0</td><td>23.673042</td><td>22.729006</td><td>22.48568</td><td>21.94651</td><td>21.250463</td><td>0.714204</td><td>0.771448</td><td>0.807343</td><td>0.758936</td><td>0.744008</td><td>11</td><td>11</td><td>2</td><td>2</td><td>2</td><td>2</td><td>3</td><td>2</td><td>2</td><td>2</td><td>2</td><td>3</td><td>11</td><td>11</td><td>2</td><td>2</td><td>2</td><td>2</td><td>3</td><td>2</td><td>2</td><td>2</td><td>2</td><td>3</td></tr>\n",
       "<tr><td>-5187583820767278838</td><td>-5151537431544333799</td><td>2</td><td>-</td><td>0</td><td>5</td><td>2</td><td>-</td><td>0</td><td>-</td><td>2</td><td>-</td><td>0</td><td>5</td><td>2909817</td><td>591106</td><td>117875569</td><td>49.708733</td><td>1.331482</td><td>0.516708</td><td>0.238731</td><td>inf</td><td>1.331482</td><td>0.516708</td><td>0.238731</td><td>inf</td><td>0.0</td><td>0.0</td><td>0.0</td><td>0.0</td><td>0.0</td><td>21.175867</td><td>19.844385</td><td>19.327677</td><td>19.088945</td><td>inf</td><td>0.0</td><td>0.0</td><td>0.0</td><td>0.0</td><td>0.0</td><td>0.0</td><td>0.0</td><td>0.0</td><td>0.0</td><td>0.0</td><td>0.0</td><td>0.0</td><td>0.0</td><td>0.0</td><td>0.0</td><td>21.175867</td><td>19.844385</td><td>19.327677</td><td>19.088945</td><td>inf</td><td>0.060313</td><td>0.060313</td><td>0.0</td><td>0.0</td><td>0.0</td><td>0.0</td><td>0.0</td><td>0.0</td><td>0.0</td><td>0.0</td><td>0.0</td><td>0.0</td><td>0.0</td><td>0.0</td><td>0.0</td><td>0.0</td><td>0.0</td><td>0.0</td><td>0.0</td><td>0.0</td><td>0.0</td><td>0.0</td><td>0.0</td><td>0.0</td><td>0.0</td><td>0.0</td><td>0.0</td><td>0.0</td><td>0.0</td><td>0.0</td><td>0.0</td><td>0.0</td><td>0.0</td><td>0.0</td><td>0.0</td><td>0.0</td><td>0.0</td><td>0.0</td><td>0.0</td><td>0.0</td><td>0.0</td><td>0.0</td><td>23.305508</td><td>22.242823</td><td>21.968355</td><td>21.47693</td><td>0.0</td><td>0.637225</td><td>0.688472</td><td>0.736154</td><td>0.745204</td><td>0.0</td><td>4</td><td>4</td><td>1</td><td>1</td><td>1</td><td>1</td><td>0</td><td>1</td><td>1</td><td>1</td><td>1</td><td>0</td><td>4</td><td>4</td><td>1</td><td>1</td><td>1</td><td>1</td><td>0</td><td>1</td><td>1</td><td>1</td><td>1</td><td>0</td></tr>\n",
       "<tr><td>-5187583820767379731</td><td>-5151537431559559944</td><td>2</td><td>-</td><td>9</td><td>5</td><td>2</td><td>-</td><td>0</td><td>-</td><td>2</td><td>-</td><td>9</td><td>5</td><td>2909817</td><td>591106</td><td>117875569</td><td>33.7475</td><td>1.126682</td><td>0.576488</td><td>0.276144</td><td>0.113127</td><td>1.120096</td><td>0.579361</td><td>0.287064</td><td>0.11895</td><td>0.0</td><td>0.0</td><td>0.0</td><td>0.0</td><td>0.0</td><td>21.420383</td><td>20.293701</td><td>19.717213</td><td>19.441069</td><td>19.327942</td><td>0.0</td><td>0.0</td><td>0.0</td><td>0.0</td><td>0.0</td><td>0.0</td><td>0.0</td><td>0.0</td><td>0.0</td><td>0.0</td><td>0.0</td><td>0.0</td><td>0.0</td><td>0.0</td><td>0.0</td><td>21.428013</td><td>20.307917</td><td>19.728556</td><td>19.441492</td><td>19.322542</td><td>0.135221</td><td>0.135221</td><td>0.0</td><td>0.0</td><td>0.0</td><td>0.0</td><td>0.0</td><td>0.0</td><td>0.0</td><td>0.0</td><td>0.0</td><td>0.0</td><td>0.0</td><td>0.0</td><td>0.0</td><td>0.0</td><td>0.0</td><td>0.0</td><td>0.0</td><td>0.0</td><td>0.0</td><td>0.0</td><td>0.0</td><td>0.0</td><td>0.0</td><td>0.0</td><td>0.0</td><td>0.0</td><td>0.0</td><td>0.0</td><td>0.0</td><td>0.0</td><td>0.0</td><td>0.0</td><td>0.0</td><td>0.0</td><td>0.0</td><td>0.0</td><td>0.0</td><td>0.0</td><td>0.0</td><td>0.0</td><td>23.700352</td><td>22.77554</td><td>22.529163</td><td>21.984028</td><td>21.28252</td><td>0.717052</td><td>0.687955</td><td>0.708859</td><td>0.678089</td><td>0.645103</td><td>13</td><td>13</td><td>3</td><td>3</td><td>3</td><td>2</td><td>2</td><td>3</td><td>3</td><td>3</td><td>2</td><td>2</td><td>13</td><td>13</td><td>3</td><td>3</td><td>3</td><td>2</td><td>2</td><td>3</td><td>3</td><td>3</td><td>2</td><td>2</td></tr>\n",
       "<tr><td>-5187583820767371442</td><td>-5151537431559549546</td><td>2</td><td>-</td><td>9</td><td>5</td><td>2</td><td>-</td><td>0</td><td>-</td><td>2</td><td>-</td><td>9</td><td>5</td><td>2909817</td><td>591106</td><td>117875569</td><td>54.325127</td><td>1.157789</td><td>0.469635</td><td>0.143353</td><td>0.176172</td><td>1.201174</td><td>0.456621</td><td>0.026131</td><td>0.228535</td><td>0.0</td><td>0.0</td><td>0.0</td><td>0.0</td><td>0.0</td><td>20.450882</td><td>19.293093</td><td>18.823458</td><td>18.680105</td><td>18.503933</td><td>0.0</td><td>0.0</td><td>0.0</td><td>0.0</td><td>0.0</td><td>0.0</td><td>0.0</td><td>0.0</td><td>0.0</td><td>0.0</td><td>0.0</td><td>0.0</td><td>0.0</td><td>0.0</td><td>0.0</td><td>20.45469</td><td>19.253517</td><td>18.796896</td><td>18.770765</td><td>18.54223</td><td>0.109823</td><td>0.109823</td><td>0.0</td><td>0.0</td><td>0.0</td><td>0.0</td><td>0.0</td><td>0.0</td><td>0.0</td><td>0.0</td><td>0.0</td><td>0.0</td><td>0.0</td><td>0.0</td><td>0.0</td><td>0.0</td><td>0.0</td><td>0.0</td><td>0.0</td><td>0.0</td><td>0.0</td><td>0.0</td><td>0.0</td><td>0.0</td><td>0.0</td><td>0.0</td><td>0.0</td><td>0.0</td><td>0.0</td><td>0.0</td><td>0.0</td><td>0.0</td><td>0.0</td><td>0.0</td><td>0.0</td><td>0.0</td><td>0.0</td><td>0.0</td><td>0.0</td><td>0.0</td><td>0.0</td><td>0.0</td><td>23.51659</td><td>22.562672</td><td>22.335388</td><td>21.856962</td><td>21.164934</td><td>0.519238</td><td>0.536873</td><td>0.601178</td><td>0.485846</td><td>0.528862</td><td>15</td><td>15</td><td>3</td><td>3</td><td>3</td><td>3</td><td>3</td><td>3</td><td>3</td><td>3</td><td>3</td><td>3</td><td>15</td><td>15</td><td>3</td><td>3</td><td>3</td><td>3</td><td>3</td><td>3</td><td>3</td><td>3</td><td>3</td><td>3</td></tr>\n",
       "<tr><td>...</td><td>...</td><td>...</td><td>...</td><td>...</td><td>...</td><td>...</td><td>...</td><td>...</td><td>...</td><td>...</td><td>...</td><td>...</td><td>...</td><td>...</td><td>...</td><td>...</td><td>...</td><td>...</td><td>...</td><td>...</td><td>...</td><td>...</td><td>...</td><td>...</td><td>...</td><td>...</td><td>...</td><td>...</td><td>...</td><td>...</td><td>...</td><td>...</td><td>...</td><td>...</td><td>...</td><td>...</td><td>...</td><td>...</td><td>...</td><td>...</td><td>...</td><td>...</td><td>...</td><td>...</td><td>...</td><td>...</td><td>...</td><td>...</td><td>...</td><td>...</td><td>...</td><td>...</td><td>...</td><td>...</td><td>...</td><td>...</td><td>...</td><td>...</td><td>...</td><td>...</td><td>...</td><td>...</td><td>...</td><td>...</td><td>...</td><td>...</td><td>...</td><td>...</td><td>...</td><td>...</td><td>...</td><td>...</td><td>...</td><td>...</td><td>...</td><td>...</td><td>...</td><td>...</td><td>...</td><td>...</td><td>...</td><td>...</td><td>...</td><td>...</td><td>...</td><td>...</td><td>...</td><td>...</td><td>...</td><td>...</td><td>...</td><td>...</td><td>...</td><td>...</td><td>...</td><td>...</td><td>...</td><td>...</td><td>...</td><td>...</td><td>...</td><td>...</td><td>...</td><td>...</td><td>...</td><td>...</td><td>...</td><td>...</td><td>...</td><td>...</td><td>...</td><td>...</td><td>...</td><td>...</td><td>...</td><td>...</td><td>...</td><td>...</td><td>...</td><td>...</td><td>...</td><td>...</td><td>...</td><td>...</td><td>...</td><td>...</td><td>...</td><td>...</td><td>...</td><td>...</td><td>...</td></tr>\n",
       "<tr><td>-5187583820767118071</td><td>-5151519839373983497</td><td>2</td><td>-</td><td>9</td><td>5</td><td>2</td><td>-</td><td>0</td><td>-</td><td>2</td><td>-</td><td>9</td><td>5</td><td>2909817</td><td>590082</td><td>117876258</td><td>86.94413</td><td>1.294731</td><td>0.523125</td><td>0.320683</td><td>0.088142</td><td>1.254128</td><td>0.576204</td><td>0.319908</td><td>0.079411</td><td>0.0</td><td>0.0</td><td>0.0</td><td>0.0</td><td>0.0</td><td>21.309124</td><td>20.014393</td><td>19.491268</td><td>19.170586</td><td>19.082443</td><td>0.0</td><td>0.0</td><td>0.0</td><td>0.0</td><td>0.0</td><td>0.0</td><td>0.0</td><td>0.0</td><td>0.0</td><td>0.0</td><td>0.0</td><td>0.0</td><td>0.0</td><td>0.0</td><td>0.0</td><td>21.310123</td><td>20.055996</td><td>19.479792</td><td>19.159883</td><td>19.080473</td><td>0.053451</td><td>0.053451</td><td>0.0</td><td>0.0</td><td>0.0</td><td>0.0</td><td>0.0</td><td>0.0</td><td>0.0</td><td>0.0</td><td>0.0</td><td>0.0</td><td>0.0</td><td>0.0</td><td>0.0</td><td>0.0</td><td>0.0</td><td>0.0</td><td>0.0</td><td>0.0</td><td>0.0</td><td>0.0</td><td>0.0</td><td>0.0</td><td>0.0</td><td>0.0</td><td>0.0</td><td>0.0</td><td>0.0</td><td>0.0</td><td>0.0</td><td>0.0</td><td>0.0</td><td>0.0</td><td>0.0</td><td>0.0</td><td>0.0</td><td>0.0</td><td>0.0</td><td>0.0</td><td>0.0</td><td>0.0</td><td>23.594069</td><td>22.682459</td><td>22.431858</td><td>21.92752</td><td>21.208652</td><td>0.576302</td><td>0.675869</td><td>0.751036</td><td>0.719167</td><td>0.689052</td><td>14</td><td>14</td><td>3</td><td>3</td><td>3</td><td>3</td><td>2</td><td>3</td><td>3</td><td>3</td><td>3</td><td>2</td><td>14</td><td>14</td><td>3</td><td>3</td><td>3</td><td>3</td><td>2</td><td>3</td><td>3</td><td>3</td><td>3</td><td>2</td></tr>\n",
       "<tr><td>-5187583820767215181</td><td>-5151519839384946843</td><td>2</td><td>-</td><td>2</td><td>5</td><td>2</td><td>-</td><td>0</td><td>-</td><td>2</td><td>-</td><td>0</td><td>5</td><td>2909817</td><td>590082</td><td>117876258</td><td>42.990833</td><td>1.145761</td><td>0.346838</td><td>0.337393</td><td>-0.016285</td><td>1.145761</td><td>0.346838</td><td>0.337393</td><td>-0.016285</td><td>0.0</td><td>0.0</td><td>0.0</td><td>0.0</td><td>0.0</td><td>20.756712</td><td>19.61095</td><td>19.264112</td><td>18.92672</td><td>18.943005</td><td>0.0</td><td>0.0</td><td>0.0</td><td>0.0</td><td>0.0</td><td>0.0</td><td>0.0</td><td>0.0</td><td>0.0</td><td>0.0</td><td>0.0</td><td>0.0</td><td>0.0</td><td>0.0</td><td>0.0</td><td>20.756712</td><td>19.61095</td><td>19.264112</td><td>18.92672</td><td>18.943005</td><td>0.198969</td><td>0.232503</td><td>0.0</td><td>0.0</td><td>0.0</td><td>0.0</td><td>0.0</td><td>0.0</td><td>0.0</td><td>0.0</td><td>0.0</td><td>0.0</td><td>0.0</td><td>0.0</td><td>0.0</td><td>0.0</td><td>0.0</td><td>0.0</td><td>0.0</td><td>0.0</td><td>0.0</td><td>0.0</td><td>0.0</td><td>0.0</td><td>0.0</td><td>0.0</td><td>0.0</td><td>0.0</td><td>0.0</td><td>0.0</td><td>0.0</td><td>0.0</td><td>0.0</td><td>0.0</td><td>0.0</td><td>0.0</td><td>0.0</td><td>0.0</td><td>0.0</td><td>0.0</td><td>0.0</td><td>0.0</td><td>23.186375</td><td>22.173256</td><td>21.916382</td><td>21.451319</td><td>20.618626</td><td>0.287841</td><td>0.349913</td><td>0.426891</td><td>0.446263</td><td>0.45909</td><td>8</td><td>5</td><td>1</td><td>1</td><td>2</td><td>2</td><td>2</td><td>1</td><td>1</td><td>1</td><td>1</td><td>1</td><td>8</td><td>5</td><td>1</td><td>1</td><td>2</td><td>2</td><td>2</td><td>1</td><td>1</td><td>1</td><td>1</td><td>1</td></tr>\n",
       "<tr><td>-5187583820767118067</td><td>-5151519839373983493</td><td>2</td><td>-</td><td>9</td><td>5</td><td>2</td><td>-</td><td>0</td><td>-</td><td>2</td><td>-</td><td>9</td><td>5</td><td>2909817</td><td>590082</td><td>117876258</td><td>32.686634</td><td>1.208897</td><td>0.455715</td><td>0.277676</td><td>0.176462</td><td>1.219139</td><td>0.563154</td><td>0.188095</td><td>0.213045</td><td>0.0</td><td>0.0</td><td>0.0</td><td>0.0</td><td>0.0</td><td>21.194036</td><td>19.98514</td><td>19.529425</td><td>19.251749</td><td>19.075287</td><td>0.0</td><td>0.0</td><td>0.0</td><td>0.0</td><td>0.0</td><td>0.0</td><td>0.0</td><td>0.0</td><td>0.0</td><td>0.0</td><td>0.0</td><td>0.0</td><td>0.0</td><td>0.0</td><td>0.0</td><td>21.255348</td><td>20.03621</td><td>19.473055</td><td>19.28496</td><td>19.071915</td><td>0.031191</td><td>0.031191</td><td>0.0</td><td>0.0</td><td>0.0</td><td>0.0</td><td>0.0</td><td>0.0</td><td>0.0</td><td>0.0</td><td>0.0</td><td>0.0</td><td>0.0</td><td>0.0</td><td>0.0</td><td>0.0</td><td>0.0</td><td>0.0</td><td>0.0</td><td>0.0</td><td>0.0</td><td>0.0</td><td>0.0</td><td>0.0</td><td>0.0</td><td>0.0</td><td>0.0</td><td>0.0</td><td>0.0</td><td>0.0</td><td>0.0</td><td>0.0</td><td>0.0</td><td>0.0</td><td>0.0</td><td>0.0</td><td>0.0</td><td>0.0</td><td>0.0</td><td>0.0</td><td>0.0</td><td>0.0</td><td>23.542799</td><td>22.648735</td><td>22.411556</td><td>21.919502</td><td>21.202194</td><td>0.354513</td><td>0.45719</td><td>0.549954</td><td>0.524083</td><td>0.569442</td><td>14</td><td>14</td><td>3</td><td>3</td><td>3</td><td>3</td><td>2</td><td>3</td><td>3</td><td>3</td><td>3</td><td>2</td><td>14</td><td>14</td><td>3</td><td>3</td><td>3</td><td>3</td><td>2</td><td>3</td><td>3</td><td>3</td><td>3</td><td>2</td></tr>\n",
       "<tr><td>-5187583820767202988</td><td>-5151519839384704345</td><td>2</td><td>-</td><td>2</td><td>5</td><td>2</td><td>-</td><td>0</td><td>-</td><td>2</td><td>-</td><td>9</td><td>5</td><td>2909817</td><td>590082</td><td>117876258</td><td>36.922455</td><td>1.061432</td><td>0.324638</td><td>0.270254</td><td>0.065447</td><td>1.037401</td><td>0.328987</td><td>0.268749</td><td>0.075329</td><td>0.0</td><td>0.0</td><td>0.0</td><td>0.0</td><td>0.0</td><td>21.21279</td><td>20.151358</td><td>19.82672</td><td>19.556465</td><td>19.491018</td><td>0.0</td><td>0.0</td><td>0.0</td><td>0.0</td><td>0.0</td><td>0.0</td><td>0.0</td><td>0.0</td><td>0.0</td><td>0.0</td><td>0.0</td><td>0.0</td><td>0.0</td><td>0.0</td><td>0.0</td><td>21.196741</td><td>20.15934</td><td>19.830353</td><td>19.561604</td><td>19.486275</td><td>0.167758</td><td>0.11496</td><td>0.0</td><td>0.0</td><td>0.0</td><td>0.0</td><td>0.0</td><td>0.0</td><td>0.0</td><td>0.0</td><td>0.0</td><td>0.0</td><td>0.0</td><td>0.0</td><td>0.0</td><td>0.0</td><td>0.0</td><td>0.0</td><td>0.0</td><td>0.0</td><td>0.0</td><td>0.0</td><td>0.0</td><td>0.0</td><td>0.0</td><td>0.0</td><td>0.0</td><td>0.0</td><td>0.0</td><td>0.0</td><td>0.0</td><td>0.0</td><td>0.0</td><td>0.0</td><td>0.0</td><td>0.0</td><td>0.0</td><td>0.0</td><td>0.0</td><td>0.0</td><td>0.0</td><td>0.0</td><td>23.547993</td><td>22.678165</td><td>22.453695</td><td>21.958395</td><td>21.227678</td><td>0.3211</td><td>0.397968</td><td>0.474196</td><td>0.43091</td><td>0.448477</td><td>16</td><td>14</td><td>3</td><td>3</td><td>3</td><td>4</td><td>3</td><td>3</td><td>3</td><td>3</td><td>3</td><td>2</td><td>16</td><td>14</td><td>3</td><td>3</td><td>3</td><td>4</td><td>3</td><td>3</td><td>3</td><td>3</td><td>3</td><td>2</td></tr>\n",
       "<tr><td>-5187583820767218203</td><td>-5151519839384950322</td><td>2</td><td>-</td><td>2</td><td>5</td><td>2</td><td>-</td><td>0</td><td>-</td><td>2</td><td>-</td><td>9</td><td>5</td><td>2909817</td><td>590082</td><td>117876258</td><td>40.192226</td><td>1.062786</td><td>0.39514</td><td>0.251568</td><td>0.11887</td><td>1.073708</td><td>0.390991</td><td>0.255669</td><td>0.119877</td><td>0.0</td><td>0.0</td><td>0.0</td><td>0.0</td><td>0.0</td><td>18.667107</td><td>17.60432</td><td>17.20918</td><td>16.957613</td><td>16.838743</td><td>0.0</td><td>0.0</td><td>0.0</td><td>0.0</td><td>0.0</td><td>0.0</td><td>0.0</td><td>0.0</td><td>0.0</td><td>0.0</td><td>0.0</td><td>0.0</td><td>0.0</td><td>0.0</td><td>0.0</td><td>18.673597</td><td>17.59989</td><td>17.208899</td><td>16.95323</td><td>16.833353</td><td>0.0418</td><td>0.033172</td><td>0.0</td><td>0.0</td><td>0.0</td><td>0.0</td><td>0.0</td><td>0.0</td><td>0.0</td><td>0.0</td><td>0.0</td><td>0.0</td><td>0.0</td><td>0.0</td><td>0.0</td><td>0.0</td><td>0.0</td><td>0.0</td><td>0.0</td><td>0.0</td><td>0.0</td><td>0.0</td><td>0.0</td><td>0.0</td><td>0.0</td><td>0.0</td><td>0.0</td><td>0.0</td><td>0.0</td><td>0.0</td><td>0.0</td><td>0.0</td><td>0.0</td><td>0.0</td><td>0.0</td><td>0.0</td><td>0.0</td><td>0.0</td><td>0.0</td><td>0.0</td><td>0.0</td><td>0.0</td><td>23.02171</td><td>22.043747</td><td>21.822842</td><td>21.443724</td><td>20.797348</td><td>0.949478</td><td>0.954175</td><td>0.961839</td><td>0.959641</td><td>0.95317</td><td>22</td><td>19</td><td>4</td><td>4</td><td>5</td><td>5</td><td>4</td><td>4</td><td>4</td><td>4</td><td>4</td><td>3</td><td>22</td><td>19</td><td>4</td><td>4</td><td>5</td><td>5</td><td>4</td><td>4</td><td>4</td><td>4</td><td>4</td><td>3</td></tr>\n",
       "</table>"
      ],
      "text/plain": [
       "<Table length=2000>\n",
       "        _id                 obj_id           ra   ... nmag_lbs_ok_z nmag_lbs_ok_y\n",
       "                                          degrees ...                            \n",
       "       int64                int64           str1  ...     int16         int16    \n",
       "-------------------- -------------------- ------- ... ------------- -------------\n",
       "-5187583820767379778 -5151537431559559991       2 ...             2             3\n",
       "-5187583820767278838 -5151537431544333799       2 ...             1             0\n",
       "-5187583820767379731 -5151537431559559944       2 ...             2             2\n",
       "-5187583820767371442 -5151537431559549546       2 ...             3             3\n",
       "                 ...                  ...     ... ...           ...           ...\n",
       "-5187583820767118071 -5151519839373983497       2 ...             3             2\n",
       "-5187583820767215181 -5151519839384946843       2 ...             1             1\n",
       "-5187583820767118067 -5151519839373983493       2 ...             3             2\n",
       "-5187583820767202988 -5151519839384704345       2 ...             3             2\n",
       "-5187583820767218203 -5151519839384950322       2 ...             4             3"
      ]
     },
     "execution_count": 11,
     "metadata": {},
     "output_type": "execute_result"
    }
   ],
   "source": [
    "res"
   ]
  },
  {
   "cell_type": "code",
   "execution_count": null,
   "metadata": {},
   "outputs": [],
   "source": []
  }
 ],
 "metadata": {
  "kernelspec": {
   "display_name": "Python 3",
   "language": "python",
   "name": "python3"
  },
  "language_info": {
   "codemirror_mode": {
    "name": "ipython",
    "version": 3
   },
   "file_extension": ".py",
   "mimetype": "text/x-python",
   "name": "python",
   "nbconvert_exporter": "python",
   "pygments_lexer": "ipython3",
   "version": "3.8.6"
  },
  "varInspector": {
   "cols": {
    "lenName": "25",
    "lenType": "25",
    "lenVar": "150"
   },
   "kernels_config": {
    "python": {
     "delete_cmd_postfix": "",
     "delete_cmd_prefix": "del ",
     "library": "var_list.py",
     "varRefreshCmd": "print(var_dic_list())"
    },
    "r": {
     "delete_cmd_postfix": ") ",
     "delete_cmd_prefix": "rm(",
     "library": "var_list.r",
     "varRefreshCmd": "cat(var_dic_list()) "
    }
   },
   "types_to_exclude": [
    "module",
    "function",
    "builtin_function_or_method",
    "instance",
    "_Feature"
   ],
   "window_display": true
  }
 },
 "nbformat": 4,
 "nbformat_minor": 4
}
