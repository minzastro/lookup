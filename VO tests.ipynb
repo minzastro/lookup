{
 "cells": [
  {
   "cell_type": "code",
   "execution_count": 1,
   "metadata": {
    "execution": {
     "iopub.execute_input": "2020-08-20T15:38:29.545431Z",
     "iopub.status.busy": "2020-08-20T15:38:29.545097Z",
     "iopub.status.idle": "2020-08-20T15:38:29.548436Z",
     "shell.execute_reply": "2020-08-20T15:38:29.547776Z",
     "shell.execute_reply.started": "2020-08-20T15:38:29.545397Z"
    }
   },
   "outputs": [],
   "source": [
    "from providers.obslog import ObsLogLookup"
   ]
  },
  {
   "cell_type": "code",
   "execution_count": 2,
   "metadata": {
    "execution": {
     "iopub.execute_input": "2020-08-20T15:38:34.856732Z",
     "iopub.status.busy": "2020-08-20T15:38:34.856510Z",
     "iopub.status.idle": "2020-08-20T15:38:34.859228Z",
     "shell.execute_reply": "2020-08-20T15:38:34.858649Z",
     "shell.execute_reply.started": "2020-08-20T15:38:34.856715Z"
    }
   },
   "outputs": [],
   "source": [
    "oll = ObsLogLookup()"
   ]
  },
  {
   "cell_type": "code",
   "execution_count": 4,
   "metadata": {
    "execution": {
     "iopub.execute_input": "2020-08-20T15:38:40.450858Z",
     "iopub.status.busy": "2020-08-20T15:38:40.450624Z",
     "iopub.status.idle": "2020-08-20T15:38:40.454525Z",
     "shell.execute_reply": "2020-08-20T15:38:40.454042Z",
     "shell.execute_reply.started": "2020-08-20T15:38:40.450819Z"
    }
   },
   "outputs": [
    {
     "data": {
      "text/plain": [
       "{'ESOLog': {'url': 'http://archive.eso.org/tap_obs',\n",
       "  'columns': 'dataproduct_type, dataproduct_subtype,facility_name, instrument_name, obs_collection, filter,access_estsize, access_url'},\n",
       " 'Canadian': {'url': 'http://www.cadc-ccda.hia-iha.nrc-cnrc.gc.ca/tap/',\n",
       "  'columns': 'distinct obs_collection,facility_name,instrument_name,target_name'}}"
      ]
     },
     "execution_count": 4,
     "metadata": {},
     "output_type": "execute_result"
    }
   ],
   "source": [
    "oll.CATALOGS"
   ]
  },
  {
   "cell_type": "code",
   "execution_count": 15,
   "metadata": {
    "execution": {
     "iopub.execute_input": "2020-08-20T15:45:41.690138Z",
     "iopub.status.busy": "2020-08-20T15:45:41.689912Z",
     "iopub.status.idle": "2020-08-20T15:45:41.692869Z",
     "shell.execute_reply": "2020-08-20T15:45:41.692237Z",
     "shell.execute_reply.started": "2020-08-20T15:45:41.690121Z"
    }
   },
   "outputs": [],
   "source": [
    "from astroquery.utils.tap.core import TapPlus, Tap"
   ]
  },
  {
   "cell_type": "code",
   "execution_count": 25,
   "metadata": {
    "execution": {
     "iopub.execute_input": "2020-08-20T15:48:06.755512Z",
     "iopub.status.busy": "2020-08-20T15:48:06.755206Z",
     "iopub.status.idle": "2020-08-20T15:48:06.759145Z",
     "shell.execute_reply": "2020-08-20T15:48:06.758354Z",
     "shell.execute_reply.started": "2020-08-20T15:48:06.755483Z"
    }
   },
   "outputs": [
    {
     "name": "stdout",
     "output_type": "stream",
     "text": [
      "Created TAP+ (v1.2.1) - Connection:\n",
      "\tHost: www.cadc-ccda.hia-iha.nrc-cnrc.gc.ca\n",
      "\tUse HTTPS: False\n",
      "\tPort: 80\n",
      "\tSSL Port: 443\n"
     ]
    }
   ],
   "source": [
    "#tap = Tap(oll.CATALOGS['Canadian']['url'] + 'argus/')\n",
    "tap = TapPlus('http://www.cadc-ccda.hia-iha.nrc-cnrc.gc.ca/argus')"
   ]
  },
  {
   "cell_type": "code",
   "execution_count": 8,
   "metadata": {
    "execution": {
     "iopub.execute_input": "2020-08-20T15:39:48.906772Z",
     "iopub.status.busy": "2020-08-20T15:39:48.906547Z",
     "iopub.status.idle": "2020-08-20T15:39:48.909591Z",
     "shell.execute_reply": "2020-08-20T15:39:48.908882Z",
     "shell.execute_reply.started": "2020-08-20T15:39:48.906739Z"
    }
   },
   "outputs": [],
   "source": [
    "sql = oll._prepare_sql('Canadian', 200, -45, 10)"
   ]
  },
  {
   "cell_type": "code",
   "execution_count": 12,
   "metadata": {
    "execution": {
     "iopub.execute_input": "2020-08-20T15:43:19.380393Z",
     "iopub.status.busy": "2020-08-20T15:43:19.380174Z",
     "iopub.status.idle": "2020-08-20T15:43:20.728289Z",
     "shell.execute_reply": "2020-08-20T15:43:20.727563Z",
     "shell.execute_reply.started": "2020-08-20T15:43:19.380374Z"
    }
   },
   "outputs": [
    {
     "ename": "HTTPError",
     "evalue": "Error 303:\n",
     "output_type": "error",
     "traceback": [
      "\u001b[0;31m---------------------------------------------------------------------------\u001b[0m",
      "\u001b[0;31mHTTPError\u001b[0m                                 Traceback (most recent call last)",
      "\u001b[0;32m<ipython-input-12-3879b43030dd>\u001b[0m in \u001b[0;36m<module>\u001b[0;34m\u001b[0m\n\u001b[0;32m----> 1\u001b[0;31m \u001b[0mjob\u001b[0m \u001b[0;34m=\u001b[0m \u001b[0mtap\u001b[0m\u001b[0;34m.\u001b[0m\u001b[0mlaunch_job\u001b[0m\u001b[0;34m(\u001b[0m\u001b[0msql\u001b[0m\u001b[0;34m)\u001b[0m\u001b[0;34m\u001b[0m\u001b[0;34m\u001b[0m\u001b[0m\n\u001b[0m",
      "\u001b[0;32m/usr/local/lib/python3.8/site-packages/astroquery/utils/tap/core.py\u001b[0m in \u001b[0;36mlaunch_job\u001b[0;34m(self, query, name, output_file, output_format, verbose, dump_to_file, upload_resource, upload_table_name)\u001b[0m\n\u001b[1;32m    328\u001b[0m                 self.__connHandler.dump_to_file(suitableOutputFile,\n\u001b[1;32m    329\u001b[0m                                                 responseStr)\n\u001b[0;32m--> 330\u001b[0;31m             raise requests.exceptions.HTTPError(\n\u001b[0m\u001b[1;32m    331\u001b[0m                 taputils.parse_http_response_error(responseStr,\n\u001b[1;32m    332\u001b[0m                                                    response.status))\n",
      "\u001b[0;31mHTTPError\u001b[0m: Error 303:\n"
     ]
    }
   ],
   "source": [
    "job = tap.launch_job(sql)"
   ]
  },
  {
   "cell_type": "code",
   "execution_count": 26,
   "metadata": {
    "execution": {
     "iopub.execute_input": "2020-08-20T15:48:09.603012Z",
     "iopub.status.busy": "2020-08-20T15:48:09.602789Z",
     "iopub.status.idle": "2020-08-20T15:48:10.895639Z",
     "shell.execute_reply": "2020-08-20T15:48:10.894731Z",
     "shell.execute_reply.started": "2020-08-20T15:48:09.602978Z"
    }
   },
   "outputs": [
    {
     "name": "stdout",
     "output_type": "stream",
     "text": [
      "Launched query: 'SELECT distinct  TOP 2000 obs_collection,facility_name,instrument_name,target_name\n",
      "        FROM ivoa.Obscore\n",
      "        WHERE CONTAINS(POINT('ICRS', 200, -45), s_region)=1'\n",
      "------>http\n",
      "host = www.cadc-ccda.hia-iha.nrc-cnrc.gc.ca:80\n",
      "context = /argus/sync\n",
      "Content-type = application/x-www-form-urlencoded\n",
      "303 See Other\n",
      "[('Date', 'Thu, 20 Aug 2020 15:48:10 GMT'), ('Location', 'http://www.cadc-ccda.hia-iha.nrc-cnrc.gc.ca/argus/sync/sj8u43z1ojy6w4c0/run'), ('Content-Length', '0'), ('Vary', 'Origin'), ('Connection', 'close'), ('Content-Type', 'text/plain')]\n",
      "Redirection found\n",
      "Redirect to %s http://www.cadc-ccda.hia-iha.nrc-cnrc.gc.ca/argus/sync/sj8u43z1ojy6w4c0/run\n",
      "------>http\n",
      "host = www.cadc-ccda.hia-iha.nrc-cnrc.gc.ca:80\n",
      "context = /argus/sync/sj8u43z1ojy6w4c0/run\n",
      "Retrieving sync. results...\n",
      "Query finished.\n"
     ]
    },
    {
     "data": {
      "text/plain": [
       "<astroquery.utils.tap.model.job.Job at 0x7f24eed00a30>"
      ]
     },
     "execution_count": 26,
     "metadata": {},
     "output_type": "execute_result"
    }
   ],
   "source": [
    "tap.launch_job(sql, verbose=True)"
   ]
  },
  {
   "cell_type": "code",
   "execution_count": 23,
   "metadata": {
    "execution": {
     "iopub.execute_input": "2020-08-20T15:47:08.265231Z",
     "iopub.status.busy": "2020-08-20T15:47:08.265037Z",
     "iopub.status.idle": "2020-08-20T15:47:08.271238Z",
     "shell.execute_reply": "2020-08-20T15:47:08.270641Z",
     "shell.execute_reply.started": "2020-08-20T15:47:08.265213Z"
    }
   },
   "outputs": [
    {
     "ename": "AttributeError",
     "evalue": "'Tap' object has no attribute 'url'",
     "output_type": "error",
     "traceback": [
      "\u001b[0;31m---------------------------------------------------------------------------\u001b[0m",
      "\u001b[0;31mAttributeError\u001b[0m                            Traceback (most recent call last)",
      "\u001b[0;32m<ipython-input-23-f9fc630fbe3f>\u001b[0m in \u001b[0;36m<module>\u001b[0;34m\u001b[0m\n\u001b[0;32m----> 1\u001b[0;31m \u001b[0mtap\u001b[0m\u001b[0;34m.\u001b[0m\u001b[0murl\u001b[0m\u001b[0;34m\u001b[0m\u001b[0;34m\u001b[0m\u001b[0m\n\u001b[0m",
      "\u001b[0;31mAttributeError\u001b[0m: 'Tap' object has no attribute 'url'"
     ]
    }
   ],
   "source": [
    "tap.url"
   ]
  },
  {
   "cell_type": "code",
   "execution_count": null,
   "metadata": {},
   "outputs": [],
   "source": []
  }
 ],
 "metadata": {
  "kernelspec": {
   "display_name": "Python 3",
   "language": "python",
   "name": "python3"
  },
  "language_info": {
   "codemirror_mode": {
    "name": "ipython",
    "version": 3
   },
   "file_extension": ".py",
   "mimetype": "text/x-python",
   "name": "python",
   "nbconvert_exporter": "python",
   "pygments_lexer": "ipython3",
   "version": "3.8.4"
  },
  "varInspector": {
   "cols": {
    "lenName": "25",
    "lenType": "25",
    "lenVar": "150"
   },
   "kernels_config": {
    "python": {
     "delete_cmd_postfix": "",
     "delete_cmd_prefix": "del ",
     "library": "var_list.py",
     "varRefreshCmd": "print(var_dic_list())"
    },
    "r": {
     "delete_cmd_postfix": ") ",
     "delete_cmd_prefix": "rm(",
     "library": "var_list.r",
     "varRefreshCmd": "cat(var_dic_list()) "
    }
   },
   "types_to_exclude": [
    "module",
    "function",
    "builtin_function_or_method",
    "instance",
    "_Feature"
   ],
   "window_display": true
  }
 },
 "nbformat": 4,
 "nbformat_minor": 4
}
