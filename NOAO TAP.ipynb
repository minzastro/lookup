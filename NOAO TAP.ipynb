{
 "cells": [
  {
   "cell_type": "code",
   "execution_count": 6,
   "metadata": {},
   "outputs": [],
   "source": [
    "from dl import authClient, queryClient, storeClient"
   ]
  },
  {
   "cell_type": "code",
   "execution_count": 7,
   "metadata": {},
   "outputs": [
    {
     "name": "stdout",
     "output_type": "stream",
     "text": [
      "Got token AuthManager Service not responding.\n"
     ]
    }
   ],
   "source": [
    "token = authClient.login('minzastro', password='****')\n",
    "print(\"Got token\",token)"
   ]
  },
  {
   "cell_type": "code",
   "execution_count": 5,
   "metadata": {},
   "outputs": [],
   "source": [
    "query = \"\"\"SELECT ra_cent, dec_cent, ra_size, dec_size FROM des_dr1.tile_info\"\"\"\n",
    "result = queryClient.query(token,adql=query,fmt='votable')  # submit the query, using your authe"
   ]
  },
  {
   "cell_type": "code",
   "execution_count": null,
   "metadata": {},
   "outputs": [],
   "source": [
    "from astropy.table import Table\n",
    "from astropy.io import votable"
   ]
  },
  {
   "cell_type": "code",
   "execution_count": 7,
   "metadata": {},
   "outputs": [],
   "source": [
    "import tempfile"
   ]
  },
  {
   "cell_type": "code",
   "execution_count": 7,
   "metadata": {},
   "outputs": [],
   "source": [
    "def query_to_votable(query):\n",
    "    result = queryClient.query(token,adql=query,fmt='votable') \n",
    "    with tempfile.TemporaryFile(mode='w+b') as f:\n",
    "        for line in result:\n",
    "            f.write(line.encode())\n",
    "        f.seek(0)\n",
    "        tbl = Table.read(f)\n",
    "    return tbl"
   ]
  },
  {
   "cell_type": "code",
   "execution_count": 12,
   "metadata": {},
   "outputs": [
    {
     "name": "stdout",
     "output_type": "stream",
     "text": [
      "test2\n",
      "test1\n",
      "z111\n",
      "\n"
     ]
    }
   ],
   "source": [
    "print(queryClient.list(token))"
   ]
  },
  {
   "cell_type": "code",
   "execution_count": 22,
   "metadata": {},
   "outputs": [],
   "source": [
    "import dl\n",
    "from dl import dlinterface"
   ]
  },
  {
   "cell_type": "code",
   "execution_count": 24,
   "metadata": {},
   "outputs": [
    {
     "name": "stdout",
     "output_type": "stream",
     "text": [
      "Welcome to the Data Lab python interface.  Type dl.help() for help.\n"
     ]
    }
   ],
   "source": [
    "dli = dlinterface.Dlinterface()"
   ]
  },
  {
   "cell_type": "code",
   "execution_count": 31,
   "metadata": {},
   "outputs": [
    {
     "name": "stdout",
     "output_type": "stream",
     "text": [
      "Enter password:  ··········\n"
     ]
    },
    {
     "name": "stdout",
     "output_type": "stream",
     "text": [
      "Welcome to the Data Lab, minzastro\n"
     ]
    }
   ],
   "source": [
    "dli.login(user='minzastro')"
   ]
  },
  {
   "cell_type": "code",
   "execution_count": 38,
   "metadata": {},
   "outputs": [
    {
     "name": "stdout",
     "output_type": "stream",
     "text": [
      "eBOSS_test  public/  tmp/ \n"
     ]
    }
   ],
   "source": [
    "dli.ls()"
   ]
  },
  {
   "cell_type": "code",
   "execution_count": 42,
   "metadata": {},
   "outputs": [
    {
     "data": {
      "text/plain": [
       "'eBOSS_test,public,test_x,tmp'"
      ]
     },
     "execution_count": 42,
     "metadata": {},
     "output_type": "execute_result"
    }
   ],
   "source": [
    "storeClient.ls (token, name='vos://')"
   ]
  },
  {
   "cell_type": "code",
   "execution_count": 40,
   "metadata": {},
   "outputs": [
    {
     "name": "stdout",
     "output_type": "stream",
     "text": [
      "(1 / 1) test_head.csv -> vos://test_x\n"
     ]
    }
   ],
   "source": [
    "storeClient.put(token, 'test_head.csv', 'test_x')"
   ]
  },
  {
   "cell_type": "code",
   "execution_count": 43,
   "metadata": {},
   "outputs": [
    {
     "data": {
      "text/plain": [
       "2.235294117647059"
      ]
     },
     "execution_count": 43,
     "metadata": {},
     "output_type": "execute_result"
    }
   ],
   "source": [
    "38/17"
   ]
  },
  {
   "cell_type": "markdown",
   "metadata": {},
   "source": [
    "### j = {\n",
    "  \"DES\": {\n",
    "    \"columns\": \"coadd_object_id, ra, dec, mag_auto_g, mag_auto_r, mag_auto_i\",\n",
    "    \"ra\": \"ra\",\n",
    "    \"dec\": \"dec\",\n",
    "    \"table\": \"des_dr1.main\",\n",
    "    \"formats\": [\n",
    "      [\"ra\", \"{:.5f}\"],\n",
    "      [\"dec\", \"{:.5f}\"],\n",
    "    ]\n",
    "  },\n",
    "  \"SMASH\": {\n",
    "    \"columns\": \"id, ra, dec, chi, sharp, umag, gmag, rmag, imag, zmag, uscatter, gscatter, rscatter, iscatter, zscatter\",\n",
    "    \"ra\": \"ra\",\n",
    "    \"dec\": \"dec\",\n",
    "    \"table\": \"smash_dr1.object\",\n",
    "    \"formats\": [\n",
    "      [\"ra\", \"{:.5f}\"],\n",
    "      [\"dec\", \"{:.5f}\"],\n",
    "    ]\n",
    "  }\n",
    "\n",
    "}"
   ]
  },
  {
   "cell_type": "code",
   "execution_count": 2,
   "metadata": {},
   "outputs": [],
   "source": [
    "import simplejson as json"
   ]
  },
  {
   "cell_type": "code",
   "execution_count": 3,
   "metadata": {},
   "outputs": [
    {
     "ename": "NameError",
     "evalue": "name 'j' is not defined",
     "output_type": "error",
     "traceback": [
      "\u001b[0;31m---------------------------------------------------------------------------\u001b[0m",
      "\u001b[0;31mNameError\u001b[0m                                 Traceback (most recent call last)",
      "\u001b[1;32m/home/mints/prog/lookup/NOAO TAP.ipynb Cell 17\u001b[0m line \u001b[0;36m<cell line: 1>\u001b[0;34m()\u001b[0m\n\u001b[0;32m----> <a href='vscode-notebook-cell:/home/mints/prog/lookup/NOAO%20TAP.ipynb#X22sZmlsZQ%3D%3D?line=0'>1</a>\u001b[0m json\u001b[39m.\u001b[39mdump(j, \u001b[39mopen\u001b[39m(\u001b[39m'\u001b[39m\u001b[39mconfig/NOAO.json\u001b[39m\u001b[39m'\u001b[39m, \u001b[39m'\u001b[39m\u001b[39mw\u001b[39m\u001b[39m'\u001b[39m), indent\u001b[39m=\u001b[39m\u001b[39m2\u001b[39m)\n",
      "\u001b[0;31mNameError\u001b[0m: name 'j' is not defined"
     ]
    }
   ],
   "source": [
    "json.dump(j, open('config/NOAO.json', 'w'), indent=2)"
   ]
  },
  {
   "cell_type": "code",
   "execution_count": 18,
   "metadata": {},
   "outputs": [],
   "source": [
    "from astroquery.utils.tap.core import TapPlus, Tap"
   ]
  },
  {
   "cell_type": "code",
   "execution_count": 32,
   "metadata": {},
   "outputs": [],
   "source": [
    "tap_url = \"https://datalab.noirlab.edu/tap\""
   ]
  },
  {
   "cell_type": "code",
   "execution_count": 33,
   "metadata": {},
   "outputs": [],
   "source": [
    "tap = TapPlus(tap_url, default_protocol_is_https=True)"
   ]
  },
  {
   "cell_type": "code",
   "execution_count": 27,
   "metadata": {},
   "outputs": [],
   "source": [
    "r = 10.0 / 3600."
   ]
  },
  {
   "cell_type": "code",
   "execution_count": 34,
   "metadata": {},
   "outputs": [],
   "source": [
    "job = tap.launch_job(f\"select ra, dec, mag_auto_g, mag_auto_r, mag_auto_i from des_dr1.main where 't' = Q3C_RADIAL_QUERY(ra, dec, 0.0, 0.0, {r})\")"
   ]
  },
  {
   "cell_type": "code",
   "execution_count": 35,
   "metadata": {},
   "outputs": [
    {
     "data": {
      "text/html": [
       "<div><i>Table length=1</i>\n",
       "<table id=\"table139959554696192\" class=\"table-striped table-bordered table-condensed\">\n",
       "<thead><tr><th>ra</th><th>dec</th><th>mag_auto_g</th><th>mag_auto_r</th><th>mag_auto_i</th></tr></thead>\n",
       "<thead><tr><th>degrees</th><th>degrees</th><th>mag</th><th>mag</th><th>mag</th></tr></thead>\n",
       "<thead><tr><th>str1</th><th>str1</th><th>str1</th><th>str1</th><th>str1</th></tr></thead>\n",
       "<tr><td>0</td><td>0</td><td>2</td><td>2</td><td>2</td></tr>\n",
       "</table></div>"
      ],
      "text/plain": [
       "<Table length=1>\n",
       "   ra     dec   mag_auto_g mag_auto_r mag_auto_i\n",
       "degrees degrees    mag        mag        mag    \n",
       "  str1    str1     str1       str1       str1   \n",
       "------- ------- ---------- ---------- ----------\n",
       "      0       0          2          2          2"
      ]
     },
     "execution_count": 35,
     "metadata": {},
     "output_type": "execute_result"
    }
   ],
   "source": [
    "job.get_data()"
   ]
  },
  {
   "cell_type": "code",
   "execution_count": 31,
   "metadata": {},
   "outputs": [
    {
     "name": "stdout",
     "output_type": "stream",
     "text": [
      "INFO: Retrieving tables... [astroquery.utils.tap.core]\n",
      "301 Error 301:\n",
      "<!DOCTYPE HTML PUBLIC \"-//IETF//DTD HTML 2.0//EN\">\n",
      "<html><head>\n",
      "<title>301 Moved Permanently</title>\n",
      "</head><body>\n",
      "<h1>Moved Permanently</h1>\n",
      "<p>The document has moved <a href=\"https://datalab.noirlab.edu/tap/tables\">here</a>.</p>\n",
      "<hr>\n",
      "<address>Apache/2.2.15 (CentOS) Server at datalab.noirlab.edu Port 80</address>\n",
      "</body></html>\n",
      "\n"
     ]
    },
    {
     "ename": "HTTPError",
     "evalue": "Error 301:\n<!DOCTYPE HTML PUBLIC \"-//IETF//DTD HTML 2.0//EN\">\n<html><head>\n<title>301 Moved Permanently</title>\n</head><body>\n<h1>Moved Permanently</h1>\n<p>The document has moved <a href=\"https://datalab.noirlab.edu/tap/tables\">here</a>.</p>\n<hr>\n<address>Apache/2.2.15 (CentOS) Server at datalab.noirlab.edu Port 80</address>\n</body></html>\n",
     "output_type": "error",
     "traceback": [
      "\u001b[0;31m---------------------------------------------------------------------------\u001b[0m",
      "\u001b[0;31mHTTPError\u001b[0m                                 Traceback (most recent call last)",
      "\u001b[1;32m/home/mints/prog/lookup/NOAO TAP.ipynb Cell 24\u001b[0m line \u001b[0;36m<cell line: 1>\u001b[0;34m()\u001b[0m\n\u001b[0;32m----> <a href='vscode-notebook-cell:/home/mints/prog/lookup/NOAO%20TAP.ipynb#X32sZmlsZQ%3D%3D?line=0'>1</a>\u001b[0m tbls \u001b[39m=\u001b[39m tap\u001b[39m.\u001b[39;49mload_tables()\n",
      "File \u001b[0;32m/usr/local/lib/python3.8/site-packages/astroquery/utils/tap/core.py:805\u001b[0m, in \u001b[0;36mTapPlus.load_tables\u001b[0;34m(self, only_names, include_shared_tables, verbose)\u001b[0m\n\u001b[1;32m    788\u001b[0m \u001b[39mdef\u001b[39;00m \u001b[39mload_tables\u001b[39m(\u001b[39mself\u001b[39m, only_names\u001b[39m=\u001b[39m\u001b[39mFalse\u001b[39;00m, include_shared_tables\u001b[39m=\u001b[39m\u001b[39mFalse\u001b[39;00m,\n\u001b[1;32m    789\u001b[0m                 verbose\u001b[39m=\u001b[39m\u001b[39mFalse\u001b[39;00m):\n\u001b[1;32m    790\u001b[0m \u001b[39m    \u001b[39m\u001b[39m\"\"\"Loads all public tables\u001b[39;00m\n\u001b[1;32m    791\u001b[0m \n\u001b[1;32m    792\u001b[0m \u001b[39m    Parameters\u001b[39;00m\n\u001b[0;32m   (...)\u001b[0m\n\u001b[1;32m    803\u001b[0m \u001b[39m    A list of table objects\u001b[39;00m\n\u001b[1;32m    804\u001b[0m \u001b[39m    \"\"\"\u001b[39;00m\n\u001b[0;32m--> 805\u001b[0m     \u001b[39mreturn\u001b[39;00m \u001b[39mself\u001b[39;49m\u001b[39m.\u001b[39;49m_Tap__load_tables(only_names\u001b[39m=\u001b[39;49monly_names,\n\u001b[1;32m    806\u001b[0m                                   include_shared_tables\u001b[39m=\u001b[39;49minclude_shared_tables,  \u001b[39m# noqa\u001b[39;49;00m\n\u001b[1;32m    807\u001b[0m                                   verbose\u001b[39m=\u001b[39;49mverbose)\n",
      "File \u001b[0;32m/usr/local/lib/python3.8/site-packages/astroquery/utils/tap/core.py:224\u001b[0m, in \u001b[0;36mTap.__load_tables\u001b[0;34m(self, only_names, include_shared_tables, verbose)\u001b[0m\n\u001b[1;32m    222\u001b[0m \u001b[39mif\u001b[39;00m verbose:\n\u001b[1;32m    223\u001b[0m     \u001b[39mprint\u001b[39m(response\u001b[39m.\u001b[39mstatus, response\u001b[39m.\u001b[39mreason)\n\u001b[0;32m--> 224\u001b[0m isError \u001b[39m=\u001b[39m \u001b[39mself\u001b[39;49m\u001b[39m.\u001b[39;49m__connHandler\u001b[39m.\u001b[39;49mcheck_launch_response_status(response,\n\u001b[1;32m    225\u001b[0m                                                           verbose,\n\u001b[1;32m    226\u001b[0m                                                           \u001b[39m200\u001b[39;49m)\n\u001b[1;32m    227\u001b[0m \u001b[39mif\u001b[39;00m isError:\n\u001b[1;32m    228\u001b[0m     log\u001b[39m.\u001b[39minfo(\u001b[39mf\u001b[39m\u001b[39m\"\u001b[39m\u001b[39m{\u001b[39;00mresponse\u001b[39m.\u001b[39mstatus\u001b[39m}\u001b[39;00m\u001b[39m \u001b[39m\u001b[39m{\u001b[39;00mresponse\u001b[39m.\u001b[39mreason\u001b[39m}\u001b[39;00m\u001b[39m\"\u001b[39m)\n",
      "File \u001b[0;32m/usr/local/lib/python3.8/site-packages/astroquery/utils/tap/conn/tapconn.py:683\u001b[0m, in \u001b[0;36mTapConn.check_launch_response_status\u001b[0;34m(self, response, debug, expected_response_status, raise_exception)\u001b[0m\n\u001b[1;32m    681\u001b[0m     errMsg \u001b[39m=\u001b[39m taputils\u001b[39m.\u001b[39mget_http_response_error(response)\n\u001b[1;32m    682\u001b[0m     \u001b[39mprint\u001b[39m(response\u001b[39m.\u001b[39mstatus, errMsg)\n\u001b[0;32m--> 683\u001b[0m     \u001b[39mraise\u001b[39;00m requests\u001b[39m.\u001b[39mexceptions\u001b[39m.\u001b[39mHTTPError(errMsg)\n\u001b[1;32m    684\u001b[0m \u001b[39melse\u001b[39;00m:\n\u001b[1;32m    685\u001b[0m     \u001b[39mreturn\u001b[39;00m isError\n",
      "\u001b[0;31mHTTPError\u001b[0m: Error 301:\n<!DOCTYPE HTML PUBLIC \"-//IETF//DTD HTML 2.0//EN\">\n<html><head>\n<title>301 Moved Permanently</title>\n</head><body>\n<h1>Moved Permanently</h1>\n<p>The document has moved <a href=\"https://datalab.noirlab.edu/tap/tables\">here</a>.</p>\n<hr>\n<address>Apache/2.2.15 (CentOS) Server at datalab.noirlab.edu Port 80</address>\n</body></html>\n"
     ]
    }
   ],
   "source": [
    "tbls = tap.load_tables()"
   ]
  },
  {
   "cell_type": "code",
   "execution_count": 42,
   "metadata": {},
   "outputs": [],
   "source": [
    "t1 = TapPlus('https://dc.zah.uni-heidelberg.de/tap')"
   ]
  },
  {
   "cell_type": "code",
   "execution_count": 44,
   "metadata": {},
   "outputs": [],
   "source": [
    "j = t1.launch_job_async(\"\"\"SELECT band_name, obs_id, ra, dec, mean_mag, amp, nobs\n",
    "        FROM bgds.phot_all\n",
    "        where ra between 270.87968452914004 and 270.88097496004599\n",
    "          and dec between -30.030760446177777 and -30.029204890622224\"\"\", background=True)"
   ]
  },
  {
   "cell_type": "code",
   "execution_count": 45,
   "metadata": {},
   "outputs": [
    {
     "data": {
      "text/plain": [
       "'EXECUTING'"
      ]
     },
     "execution_count": 45,
     "metadata": {},
     "output_type": "execute_result"
    }
   ],
   "source": [
    "j.get_phase()"
   ]
  },
  {
   "cell_type": "code",
   "execution_count": 46,
   "metadata": {},
   "outputs": [],
   "source": [
    "import SciServer"
   ]
  },
  {
   "cell_type": "code",
   "execution_count": 48,
   "metadata": {},
   "outputs": [],
   "source": [
    "from SciServer import Authentication, LoginPortal, Config, CasJobs, SkyQuery, SciDrive, SkyServer, Files, Jobs"
   ]
  },
  {
   "cell_type": "code",
   "execution_count": 50,
   "metadata": {},
   "outputs": [],
   "source": [
    "pwd = open('providers/casjobs.sdss.auth', 'r').readlines()"
   ]
  },
  {
   "cell_type": "code",
   "execution_count": 53,
   "metadata": {},
   "outputs": [
    {
     "name": "stdout",
     "output_type": "stream",
     "text": [
      "token1=4d9c97e3cb034fe2847ad93a168fbb85\n",
      "token2=4d9c97e3cb034fe2847ad93a168fbb85\n",
      "token3=4d9c97e3cb034fe2847ad93a168fbb85\n",
      "token4=4d9c97e3cb034fe2847ad93a168fbb85\n"
     ]
    },
    {
     "name": "stderr",
     "output_type": "stream",
     "text": [
      "/tmp/ipykernel_28793/20468181.py:3: DeprecationWarning: Using SciServer.Authentication.getKeystoneToken is deprecated. Use SciServer.Authentication.getToken instead.\n",
      "  token3 = Authentication.getKeystoneToken()\n"
     ]
    }
   ],
   "source": [
    "token1 = Authentication.login('minzastro', pwd[1].strip());\n",
    "token2 = Authentication.getToken()\n",
    "token3 = Authentication.getKeystoneToken()\n",
    "token4 = Authentication.token.value\n",
    "print(\"token1=\" + token1)#\n",
    "print(\"token2=\" + token2)#\n",
    "print(\"token3=\" + token3)#\n",
    "print(\"token4=\" + token4)#"
   ]
  },
  {
   "cell_type": "code",
   "execution_count": 55,
   "metadata": {},
   "outputs": [
    {
     "name": "stdout",
     "output_type": "stream",
     "text": [
      "wsid_1137344703\n"
     ]
    }
   ],
   "source": [
    "casJobsId = CasJobs.getSchemaName()\n",
    "print(casJobsId)"
   ]
  },
  {
   "cell_type": "code",
   "execution_count": 56,
   "metadata": {},
   "outputs": [
    {
     "name": "stdout",
     "output_type": "stream",
     "text": [
      "Empty DataFrame\n",
      "Columns: [Column1, ra, dec, class, specObjID, survey, plate, z]\n",
      "Index: []\n"
     ]
    }
   ],
   "source": [
    "df = CasJobs.executeQuery(sql=\"\"\"SELECT 60 * n.distance, o.ra, o.dec, class, o.specObjID, survey, o.plate, o.z from fGetNearbySpecObjAllEq(270.8947170648, -30.0309826684, 10.0 / 60.)  n join SpecObjAll o on o.specObjID = n.specObjID order by 1\n",
    "\"\"\", context=\"DR18\", format=\"pandas\")\n",
    "print(df)"
   ]
  },
  {
   "cell_type": "code",
   "execution_count": null,
   "metadata": {},
   "outputs": [],
   "source": []
  }
 ],
 "metadata": {
  "kernelspec": {
   "display_name": "Python 3",
   "language": "python",
   "name": "python3"
  },
  "language_info": {
   "codemirror_mode": {
    "name": "ipython",
    "version": 3
   },
   "file_extension": ".py",
   "mimetype": "text/x-python",
   "name": "python",
   "nbconvert_exporter": "python",
   "pygments_lexer": "ipython3",
   "version": "3.8.16"
  },
  "varInspector": {
   "cols": {
    "lenName": "25",
    "lenType": "25",
    "lenVar": "150"
   },
   "kernels_config": {
    "python": {
     "delete_cmd_postfix": "",
     "delete_cmd_prefix": "del ",
     "library": "var_list.py",
     "varRefreshCmd": "print(var_dic_list())"
    },
    "r": {
     "delete_cmd_postfix": ") ",
     "delete_cmd_prefix": "rm(",
     "library": "var_list.r",
     "varRefreshCmd": "cat(var_dic_list()) "
    }
   },
   "types_to_exclude": [
    "module",
    "function",
    "builtin_function_or_method",
    "instance",
    "_Feature"
   ],
   "window_display": true
  }
 },
 "nbformat": 4,
 "nbformat_minor": 4
}
