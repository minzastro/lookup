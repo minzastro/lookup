{
 "cells": [
  {
   "cell_type": "code",
   "execution_count": 1,
   "metadata": {},
   "outputs": [],
   "source": [
    "import requests as rq"
   ]
  },
  {
   "cell_type": "code",
   "execution_count": 2,
   "metadata": {},
   "outputs": [],
   "source": [
    "url = \"http://ogledb.astrouw.edu.pl/~ogle/photdb/query.php\""
   ]
  },
  {
   "cell_type": "code",
   "execution_count": 3,
   "metadata": {},
   "outputs": [],
   "source": [
    "params = {'qtype': 'bvi',\n",
    "          'first': 1}"
   ]
  },
  {
   "cell_type": "code",
   "execution_count": 5,
   "metadata": {},
   "outputs": [],
   "source": [
    "data = {'db_target': 'bulge',\n",
    "'sort': 'field',\n",
    "'disp_ra': 'on',\n",
    "'use_ra': 'on',\n",
    "'valmin_ra': 18.0,\n",
    "'valmax_ra': 18.2,\n",
    "'disp_decl': 'on',\n",
    "'use_decl': 'on',\n",
    "'valmin_decl': -27.1,\n",
    "'valmax_decl': -27.05,\n",
    "'disp_vmean': 'on',\n",
    "'disp_v_i': 'on',\n",
    "'disp_imean': 'on',\n",
    "'disp_vsig': 'on',\n",
    "'disp_isig': 'on',\n",
    "'sorting': 'ASC',\n",
    "'pagelen': 50,\n",
    "'maxobj': 10}"
   ]
  },
  {
   "cell_type": "code",
   "execution_count": 41,
   "metadata": {},
   "outputs": [],
   "source": [
    "data2 = data.copy()\n",
    "data2.update(params)"
   ]
  },
  {
   "cell_type": "code",
   "execution_count": 42,
   "metadata": {},
   "outputs": [],
   "source": [
    "res = rq.post(url=url, data=data2)"
   ]
  },
  {
   "cell_type": "code",
   "execution_count": 43,
   "metadata": {},
   "outputs": [
    {
     "data": {
      "text/plain": [
       "200"
      ]
     },
     "execution_count": 43,
     "metadata": {},
     "output_type": "execute_result"
    }
   ],
   "source": [
    "res.status_code"
   ]
  },
  {
   "cell_type": "code",
   "execution_count": 32,
   "metadata": {},
   "outputs": [],
   "source": [
    "from lxml import etree\n",
    "from lxml import html\n"
   ]
  },
  {
   "cell_type": "code",
   "execution_count": 33,
   "metadata": {},
   "outputs": [],
   "source": [
    "tree = html.fromstring(res.text)"
   ]
  },
  {
   "cell_type": "code",
   "execution_count": 34,
   "metadata": {},
   "outputs": [
    {
     "data": {
      "text/plain": [
       "'\\n '"
      ]
     },
     "execution_count": 34,
     "metadata": {},
     "output_type": "execute_result"
    }
   ],
   "source": [
    "tree.text"
   ]
  },
  {
   "cell_type": "code",
   "execution_count": 35,
   "metadata": {},
   "outputs": [],
   "source": [
    "tbls = tree.xpath(\"//table[@border='1']\")"
   ]
  },
  {
   "cell_type": "code",
   "execution_count": 36,
   "metadata": {},
   "outputs": [
    {
     "data": {
      "text/plain": [
       "[]"
      ]
     },
     "execution_count": 36,
     "metadata": {},
     "output_type": "execute_result"
    }
   ],
   "source": [
    "tbls"
   ]
  },
  {
   "cell_type": "code",
   "execution_count": 44,
   "metadata": {},
   "outputs": [
    {
     "name": "stdout",
     "output_type": "stream",
     "text": [
      "<!DOCTYPE HTML PUBLIC \"-//W3C//DTD HTML 3.2 Final//EN\">\n",
      "<HTML>\n",
      " <HEAD>\n",
      "  <meta http-equiv=\"content-type\" content=\"text/html; charset=utf-8\">\n",
      "\n",
      "<TITLE>OGLE Photometry Database</TITLE>\n",
      "<script language=\"JavaScript\"> \n",
      "<!-- \n",
      "function rewrite(q){\n",
      "  var str, link, idx;\n",
      "  var dbtype=(document.dnload.db[0].checked)?\"DIA\":\"PSF\";\n",
      "  var points=(document.dnload.points.checked)?\"good\":\"all\";\n",
      "\n",
      "  str = \"q=\"+q;\n",
      "  for(i=0;i<document.links.length;i++) {\n",
      "    link = document.links[i].href;\n",
      "    idx = link.indexOf(str);\n",
      "    if (idx != -1 && link.substr(idx) == str) {\n",
      "      idx = link.indexOf(\"/photdb/\");\n",
      "      if (idx == -1) continue;\n",
      "      document.links[i].href = link.substr(0,idx+8) +\n",
      "        \"getobj.php?\" + \n",
      "        \"db=\" + dbtype +\n",
      "        \"&points=\" + points +\n",
      "        \"&q=\" + q;\n",
      "//      alert(document.links[i].href);\n",
      "      return true;\n",
      "    }\n",
      "  }\n",
      "  return false;\n",
      "}\n",
      "function onchange_form(){\n",
      "  var db_new = \"db=\" + ((document.dnload.db[0].checked)?\"DIA\":\"PSF\");\n",
      "  var db_old = \"db=\" + ((document.dnload.db[0].checked)?\"PSF\":\"DIA\");\n",
      "  var points_new = \"points=\" + ((document.dnload.points.checked)?\"good\":\"all\");\n",
      "  var points_old = \"points=\" + ((document.dnload.points.checked)?\"all\":\"good\");\n",
      "  //console.log(db_old + \" --> \" + db_new);\n",
      "  //console.log(points_old + \" --> \" + points_new);\n",
      "  var str = \"getobj.php?\";\n",
      "  for(i=0;i<document.links.length;i++) {\n",
      "    var link = document.links[i].href;\n",
      "    var idx = link.indexOf(str);\n",
      "    if (idx != -1 && link.substr(idx, str.length) == str) {\n",
      "      var idx1 = link.indexOf(db_old);\n",
      "      if (idx1 >= 0){\n",
      "        document.links[i].href = link.substr(0, idx1) + db_new + link.substr(idx1 + db_old.length)\n",
      "      }\n",
      "\n",
      "      var link = document.links[i].href;\n",
      "      var idx2 = link.indexOf(points_old);\n",
      "      if (idx2 >= 0){\n",
      "        document.links[i].href = link.substr(0, idx2) + points_new + link.substr(idx2 + points_old.length)\n",
      "      }\n",
      "//      alert(document.links[i].href);\n",
      "    }\n",
      "  }\n",
      "  return false;\n",
      "}\n",
      "function enable_form(){\n",
      "  xxx = function(id){el = document.getElementById(id); if(el){el.disabled=false;}}\n",
      "  Array(\"points_checkbox\", \"db_radio1\", \"db_radio2\").forEach(xxx);\n",
      "  onchange_form();\n",
      "  //console.log(\"yep\");\n",
      "  return true;\n",
      "}\n",
      "//-->\n",
      "</script>\n",
      "</HEAD>\n",
      "\n",
      "<!-- <BODY LINK=\"black\" VLINK=\"black\" BGCOLOR=\"#FFFFFF\"> -->\n",
      "<body onload=\"enable_form();\">\n",
      "\n",
      "first\n"
     ]
    }
   ],
   "source": [
    "print(res.text)"
   ]
  },
  {
   "cell_type": "code",
   "execution_count": null,
   "metadata": {},
   "outputs": [],
   "source": []
  }
 ],
 "metadata": {
  "kernelspec": {
   "display_name": "Python 3",
   "language": "python",
   "name": "python3"
  },
  "language_info": {
   "codemirror_mode": {
    "name": "ipython",
    "version": 3
   },
   "file_extension": ".py",
   "mimetype": "text/x-python",
   "name": "python",
   "nbconvert_exporter": "python",
   "pygments_lexer": "ipython3",
   "version": "3.7.2"
  }
 },
 "nbformat": 4,
 "nbformat_minor": 4
}
