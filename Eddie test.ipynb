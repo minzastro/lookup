{
 "cells": [
  {
   "cell_type": "code",
   "execution_count": 1,
   "metadata": {},
   "outputs": [],
   "source": [
    "import requests as rq"
   ]
  },
  {
   "cell_type": "code",
   "execution_count": 3,
   "metadata": {},
   "outputs": [],
   "source": [
    "url = \"http://sky.esa.int/esasky-tap/skyimage\""
   ]
  },
  {
   "cell_type": "code",
   "execution_count": 36,
   "metadata": {},
   "outputs": [],
   "source": [
    "data = {'fov': 0.7440329441279633,\n",
    "       'target':  '10.684708333333333 41.26875000000000',\n",
    "       'hips': 'SDSS9 color'}"
   ]
  },
  {
   "cell_type": "code",
   "execution_count": 37,
   "metadata": {},
   "outputs": [],
   "source": [
    "res = rq.get(url, params=data)"
   ]
  },
  {
   "cell_type": "code",
   "execution_count": 38,
   "metadata": {},
   "outputs": [
    {
     "data": {
      "text/plain": [
       "200"
      ]
     },
     "execution_count": 38,
     "metadata": {},
     "output_type": "execute_result"
    }
   ],
   "source": [
    "res.status_code"
   ]
  },
  {
   "cell_type": "code",
   "execution_count": 39,
   "metadata": {},
   "outputs": [
    {
     "data": {
      "text/plain": [
       "1668593"
      ]
     },
     "execution_count": 39,
     "metadata": {},
     "output_type": "execute_result"
    }
   ],
   "source": [
    "open('y.png', 'wb').write(res.content)"
   ]
  },
  {
   "cell_type": "code",
   "execution_count": 15,
   "metadata": {},
   "outputs": [],
   "source": [
    "hips = rq.get(url='http://sky.esa.int/esasky-tap/hips-sources')"
   ]
  },
  {
   "cell_type": "code",
   "execution_count": 19,
   "metadata": {},
   "outputs": [],
   "source": [
    "import simplejson as json"
   ]
  },
  {
   "cell_type": "code",
   "execution_count": 21,
   "metadata": {},
   "outputs": [],
   "source": [
    "d = json.loads(hips.text)"
   ]
  },
  {
   "cell_type": "code",
   "execution_count": 30,
   "metadata": {},
   "outputs": [
    {
     "data": {
      "text/plain": [
       "dict_keys(['total', 'wavelength', 'hips'])"
      ]
     },
     "execution_count": 30,
     "metadata": {},
     "output_type": "execute_result"
    }
   ],
   "source": [
    "xhip.keys()"
   ]
  },
  {
   "cell_type": "code",
   "execution_count": 31,
   "metadata": {},
   "outputs": [
    {
     "name": "stdout",
     "output_type": "stream",
     "text": [
      "FERMI | Fermi color | Fermi color\n",
      "INTEGRAL | INTEGRAL-IBIS RGB | INTEGRAL-IBIS RGB\n",
      "INTEGRAL | INTEGRAL-IBIS 20-35 keV | INTEGRAL-IBIS 20-35 keV\n",
      "INTEGRAL | INTEGRAL-IBIS 35-65 keV | INTEGRAL-IBIS 35-65 keV\n",
      "INTEGRAL | INTEGRAL-IBIS 65-100 keV | INTEGRAL-IBIS 65-100 keV\n",
      "Swift | Swift-BAT RGB | Swift-BAT RGB\n",
      "Chandra | Chandra RGB | Chandra RGB\n",
      "XMM-Newton | XMM-Newton EPIC color | XMM-Newton EPIC color\n",
      "Suzaku | SUZAKU | SUZAKU\n",
      "EXOSAT | EXOSAT-LE | EXOSAT-LE\n",
      "GALEX | GALEX GR6 AIS color | GALEX GR6 AIS color\n",
      "XMM-Newton | XMM-Newton UV color | XMM-Newton UV color\n",
      "Digitized Sky Survey | DSS2 color | DSS2 color\n",
      "Digitized Sky Survey | DSS2 red | DSS2 red\n",
      "HST | HST ACS | HST ACS\n",
      "HST | HST WFPC2 | HST WFPC2\n",
      "HST | HST WFC3 | HST WFC3\n",
      "HST | HST FOC | HST FOC\n",
      "HST | HST WFPC | HST WFPC\n",
      "XMM-Newton | XMM UBV color | XMM UBV color\n",
      "Sloan Digital Sky Survey | SDSS9 color | SDSS9 color\n",
      "SuperCOSMOS | SuperCOSMOS H alpha | SuperCOSMOS H alpha\n",
      "The Virginia Tech Spectral-Line Survey | VTSS Ha | VTSS Ha\n",
      "Mellinger optical survey | Mellinger color | Mellinger color\n",
      "Finkbeiner Halpha composite survey | Finkbeiner Ha | Finkbeiner Ha\n",
      "2MASS | 2MASS color JHK | 2MASS color JHK\n",
      "HST | HST NICMOS | HST NICMOS\n",
      "Spitzer | Spitzer cold SEIP IRAC-1-3-4 RGB bright | Spitzer cold SEIP IRAC-1-3-4 RGB bright\n",
      "Spitzer | Spitzer cold SEIP IRAC1 faint | Spitzer cold SEIP IRAC1 faint\n",
      "Spitzer | Spitzer cold SEIP IRAC2 faint | Spitzer cold SEIP IRAC2 faint\n",
      "Spitzer | Spitzer cold SEIP IRAC3 faint | Spitzer cold SEIP IRAC3 faint\n",
      "Spitzer | Spitzer cold SEIP IRAC4 faint | Spitzer cold SEIP IRAC4 faint\n",
      "Spitzer | Spitzer cold SEIP IRAC1 bright | Spitzer cold SEIP IRAC1 bright\n",
      "Spitzer | Spitzer cold SEIP IRAC2 bright | Spitzer cold SEIP IRAC2 bright\n",
      "Spitzer | Spitzer cold SEIP IRAC3 bright | Spitzer cold SEIP IRAC3 bright\n",
      "Spitzer | Spitzer cold SEIP IRAC4 bright | Spitzer cold SEIP IRAC4 bright\n",
      "WISE | AllWISE color | AllWISE color\n",
      "ISO | ISOCAM | ISOCAM\n",
      "Herschel | Herschel PACS 70 micron | Herschel PACS 70 micron\n",
      "Herschel | Herschel PACS 100 micron | Herschel PACS 100 micron\n",
      "Herschel | Herschel PACS 160 micron | Herschel PACS 160 micron\n",
      "Herschel | Herschel PACS RGB 70, 160 micron | Herschel PACS RGB 70, 160 micron\n",
      "Herschel | Herschel PACS RGB Gal. plane | Herschel PACS RGB Gal. plane\n",
      "Herschel | All Herschel color | All Herschel color\n",
      "AKARI | AKARI FIS color | AKARI FIS color\n",
      "AKARI | AKARI N60 | AKARI N60\n",
      "AKARI | AKARI WideS | AKARI WideS\n",
      "AKARI | AKARI WideL | AKARI WideL\n",
      "AKARI | AKARI N160 | AKARI N160\n",
      "IRAS | IRIS color | IRIS color\n",
      "Herschel | Herschel SPIRE 250 micron | Herschel SPIRE 250 micron\n",
      "Herschel | Herschel SPIRE 350 micron | Herschel SPIRE 350 micron\n",
      "Herschel | Herschel SPIRE 500 micron | Herschel SPIRE 500 micron\n",
      "Herschel | Herschel SPIRE RGB 250, 350, 500 micron | Herschel SPIRE RGB 250, 350, 500 micron\n",
      "Planck | Planck HFI 857 GHz | Planck HFI 857 GHz\n",
      "Planck | Planck HFI 545 GHz | Planck HFI 545 GHz\n",
      "Planck | Planck HFI 353 GHz | Planck HFI 353 GHz\n",
      "Planck | Planck HFI 353 GHz Pol smoothed | Planck HFI 353 GHz Pol smoothed\n",
      "Planck | Planck HFI 217 GHz | Planck HFI 217 GHz\n",
      "Planck | Planck HFI 143 GHz | Planck HFI 143 GHz\n",
      "Planck | Planck HFI 100 GHz | Planck HFI 100 GHz\n",
      "Planck | Planck LFI 070 GHz | Planck LFI 070 GHz\n",
      "Planck | Planck LFI 044 GHz | Planck LFI 044 GHz\n",
      "PLANCK | Planck LFI 030 GHz | Planck LFI 030 GHz\n",
      "Planck | Planck HFI 217 GHz Pol smoothed | Planck HFI 217 GHz Pol smoothed\n",
      "Planck | Planck HFI 143 GHz Pol smoothed | Planck HFI 143 GHz Pol smoothed\n",
      "Planck | Planck HFI 100 GHz Pol smoothed | Planck HFI 100 GHz Pol smoothed\n",
      "Planck | Planck LFI 070 GHz Pol smoothed | Planck LFI 070 GHz Pol smoothed\n",
      "Planck | Planck LFI 044 GHz Pol smoothed | Planck LFI 044 GHz Pol smoothed\n",
      "Planck | Planck LFI 030 GHz Pol smoothed | Planck LFI 030 GHz Pol smoothed\n",
      "Composite CO(1-0) map constructed by Dame et al.(2001) from 37 individual surveys of the Galaxy. | CO composite survey | CO composite survey\n",
      "Reprocessing of archival data from the HI Parkes All-Sky Survey (HIPASS) and the HI Zone of Avoidance (HIZOA) survey. | CHIPASS 1.4GHz | CHIPASS 1.4GHz\n",
      "The NRAO VLA Sky Survey (intensity maps), a 1.4 GHz continuum survey covering the entire northern hemisphere. | NVSS intensity maps | NVSS intensity maps\n",
      "Combination of the 1420 MHz continuum of the Canadian Galactic Plane Survey (CGPS) with the VLA Galactic Plane Survey (VGPS). | CGPS-VGPS CONT | CGPS-VGPS CONT\n",
      "Parkes Galactic All Sky Survey (GASS). 21 cm emission from Galactic neutral hydrogen, at a resolution of 16'. | GASS NH | GASS NH\n",
      "The HI4PI data release comprises 21-cm neutral atomic hydrogen data of the Milky Way | HI4PI NHI | HI4PI NHI\n",
      "The Sydney University Molonglo Sky Survey (SUMSS) | SUMSS 843 MHz | SUMSS 843 MHz\n",
      "Haslam 408 MHz | Haslam 408 MHz | Haslam 408 MHz\n",
      "Haslam 408 MHz (Desourced) | Haslam 408 MHz (Desourced) | Haslam 408 MHz (Desourced)\n",
      "The Westerbork Northern Sky Survey (WENSS) | WENSS 325 MHz | WENSS 325 MHz\n",
      "Planck | Planck Pol Dust smoothed | Planck Pol Dust smoothed\n",
      "Planck | Planck Pol Synchrotron smoothed | Planck Pol Synchrotron smoothed\n"
     ]
    }
   ],
   "source": [
    "for xhip in d['menuEntries']:\n",
    "    for hip in xhip['hips']:\n",
    "        print(hip['mission'], '|', hip['surveyId'], '|', hip['surveyName'])"
   ]
  },
  {
   "cell_type": "code",
   "execution_count": null,
   "metadata": {},
   "outputs": [],
   "source": []
  }
 ],
 "metadata": {
  "kernelspec": {
   "display_name": "Python 3",
   "language": "python",
   "name": "python3"
  },
  "language_info": {
   "codemirror_mode": {
    "name": "ipython",
    "version": 3
   },
   "file_extension": ".py",
   "mimetype": "text/x-python",
   "name": "python",
   "nbconvert_exporter": "python",
   "pygments_lexer": "ipython3",
   "version": "3.7.2"
  }
 },
 "nbformat": 4,
 "nbformat_minor": 4
}
