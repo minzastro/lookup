{
 "cells": [
  {
   "cell_type": "code",
   "execution_count": 1,
   "metadata": {
    "execution": {
     "iopub.execute_input": "2020-10-13T12:50:47.424541Z",
     "iopub.status.busy": "2020-10-13T12:50:47.424350Z",
     "iopub.status.idle": "2020-10-13T12:50:47.900345Z",
     "shell.execute_reply": "2020-10-13T12:50:47.899756Z",
     "shell.execute_reply.started": "2020-10-13T12:50:47.424523Z"
    }
   },
   "outputs": [],
   "source": [
    "import numpy as np\n",
    "import pylab as plt\n",
    "from astropy import table\n",
    "from astropy.io import fits\n",
    "\n",
    "plt.rcParams['figure.dpi'] = 120\n",
    "plt.rcParams['figure.figsize'] = (5, 3.5)\n",
    "plt.rcParams['figure.facecolor'] = 'w'\n",
    "plt.rcParams['font.size'] = 10."
   ]
  },
  {
   "cell_type": "code",
   "execution_count": 2,
   "metadata": {
    "execution": {
     "iopub.execute_input": "2020-10-13T12:50:48.178108Z",
     "iopub.status.busy": "2020-10-13T12:50:48.177912Z",
     "iopub.status.idle": "2020-10-13T12:50:48.289589Z",
     "shell.execute_reply": "2020-10-13T12:50:48.288843Z",
     "shell.execute_reply.started": "2020-10-13T12:50:48.178091Z"
    }
   },
   "outputs": [],
   "source": [
    "from pyesasky import ESASkyWidget"
   ]
  },
  {
   "cell_type": "code",
   "execution_count": 4,
   "metadata": {
    "execution": {
     "iopub.execute_input": "2020-10-13T12:51:48.738828Z",
     "iopub.status.busy": "2020-10-13T12:51:48.738637Z",
     "iopub.status.idle": "2020-10-13T12:51:48.934946Z",
     "shell.execute_reply": "2020-10-13T12:51:48.934380Z",
     "shell.execute_reply.started": "2020-10-13T12:51:48.738811Z"
    }
   },
   "outputs": [],
   "source": [
    "esasky = ESASkyWidget()\n"
   ]
  },
  {
   "cell_type": "code",
   "execution_count": 5,
   "metadata": {
    "execution": {
     "iopub.execute_input": "2020-10-13T12:51:56.401013Z",
     "iopub.status.busy": "2020-10-13T12:51:56.400784Z",
     "iopub.status.idle": "2020-10-13T12:51:56.405978Z",
     "shell.execute_reply": "2020-10-13T12:51:56.405164Z",
     "shell.execute_reply.started": "2020-10-13T12:51:56.400996Z"
    }
   },
   "outputs": [
    {
     "data": {
      "application/vnd.jupyter.widget-view+json": {
       "model_id": "6038c911f9ac4cee8ac76569b59eea8f",
       "version_major": 2,
       "version_minor": 0
      },
      "text/plain": [
       "ESASkyWidget(layout=Layout(align_self='stretch', height='400px'))"
      ]
     },
     "metadata": {},
     "output_type": "display_data"
    }
   ],
   "source": [
    "esasky"
   ]
  },
  {
   "cell_type": "code",
   "execution_count": 8,
   "metadata": {
    "execution": {
     "iopub.execute_input": "2020-10-13T12:52:20.482333Z",
     "iopub.status.busy": "2020-10-13T12:52:20.482022Z",
     "iopub.status.idle": "2020-10-13T12:52:21.487558Z",
     "shell.execute_reply": "2020-10-13T12:52:21.487011Z",
     "shell.execute_reply.started": "2020-10-13T12:52:20.482304Z"
    }
   },
   "outputs": [],
   "source": [
    "esasky.setViewHeight('350px')\n",
    "esasky.goToRADec(15.5, '42.226')\n",
    "esasky.setFoV(11)\n",
    "esasky.openSkyPanel()"
   ]
  },
  {
   "cell_type": "code",
   "execution_count": 11,
   "metadata": {
    "execution": {
     "iopub.execute_input": "2020-10-13T12:54:02.018876Z",
     "iopub.status.busy": "2020-10-13T12:54:02.018682Z",
     "iopub.status.idle": "2020-10-13T12:54:09.799252Z",
     "shell.execute_reply": "2020-10-13T12:54:09.798647Z",
     "shell.execute_reply.started": "2020-10-13T12:54:02.018858Z"
    }
   },
   "outputs": [
    {
     "name": "stdout",
     "output_type": "stream",
     "text": [
      "hipsURL http://hips.china-vo.org/bass-dr2-image/\n",
      "imgFormat png\n"
     ]
    }
   ],
   "source": [
    "esasky.setHiPS('BASS', 'http://hips.china-vo.org/bass-dr2-image')"
   ]
  },
  {
   "cell_type": "code",
   "execution_count": 10,
   "metadata": {
    "execution": {
     "iopub.execute_input": "2020-10-13T12:44:37.179668Z",
     "iopub.status.busy": "2020-10-13T12:44:37.179401Z",
     "iopub.status.idle": "2020-10-13T12:44:37.182518Z",
     "shell.execute_reply": "2020-10-13T12:44:37.181948Z",
     "shell.execute_reply.started": "2020-10-13T12:44:37.179644Z"
    }
   },
   "outputs": [],
   "source": [
    "hips = HiPS('UHS', 'http://surveys.roe.ac.uk/hips71/UHS/UHSDR1_PIX', 'J2000', 20, 'png')"
   ]
  },
  {
   "cell_type": "code",
   "execution_count": 8,
   "metadata": {
    "execution": {
     "iopub.execute_input": "2020-10-13T12:44:03.699535Z",
     "iopub.status.busy": "2020-10-13T12:44:03.699353Z",
     "iopub.status.idle": "2020-10-13T12:44:03.705638Z",
     "shell.execute_reply": "2020-10-13T12:44:03.705063Z",
     "shell.execute_reply.started": "2020-10-13T12:44:03.699518Z"
    }
   },
   "outputs": [
    {
     "ename": "ModuleNotFoundError",
     "evalue": "No module named 'esasky'",
     "output_type": "error",
     "traceback": [
      "\u001b[0;31m---------------------------------------------------------------------------\u001b[0m",
      "\u001b[0;31mModuleNotFoundError\u001b[0m                       Traceback (most recent call last)",
      "\u001b[0;32m<ipython-input-8-b3ddbc256969>\u001b[0m in \u001b[0;36m<module>\u001b[0;34m\u001b[0m\n\u001b[0;32m----> 1\u001b[0;31m \u001b[0;32mimport\u001b[0m \u001b[0mesasky\u001b[0m \u001b[0;32mas\u001b[0m \u001b[0mesa\u001b[0m\u001b[0;34m\u001b[0m\u001b[0;34m\u001b[0m\u001b[0m\n\u001b[0m",
      "\u001b[0;31mModuleNotFoundError\u001b[0m: No module named 'esasky'"
     ]
    }
   ],
   "source": [
    "hips."
   ]
  },
  {
   "cell_type": "code",
   "execution_count": null,
   "metadata": {},
   "outputs": [],
   "source": []
  }
 ],
 "metadata": {
  "kernelspec": {
   "display_name": "Python 3",
   "language": "python",
   "name": "python3"
  },
  "language_info": {
   "codemirror_mode": {
    "name": "ipython",
    "version": 3
   },
   "file_extension": ".py",
   "mimetype": "text/x-python",
   "name": "python",
   "nbconvert_exporter": "python",
   "pygments_lexer": "ipython3",
   "version": "3.8.5"
  }
 },
 "nbformat": 4,
 "nbformat_minor": 4
}
