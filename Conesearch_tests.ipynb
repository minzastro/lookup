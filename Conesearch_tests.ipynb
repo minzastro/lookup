{
 "cells": [
  {
   "cell_type": "code",
   "execution_count": 2,
   "metadata": {},
   "outputs": [],
   "source": [
    "from astroquery.utils.tap.core import TapPlus"
   ]
  },
  {
   "cell_type": "code",
   "execution_count": 14,
   "metadata": {},
   "outputs": [
    {
     "name": "stdout",
     "output_type": "stream",
     "text": [
      "Created TAP+ (v1.0.1) - Connection:\n",
      "\tHost: dc.zah.uni-heidelberg.de\n",
      "\tUse HTTPS: False\n",
      "\tPort: 80\n",
      "\tSSL Port: 443\n"
     ]
    }
   ],
   "source": [
    "tap = TapPlus(url='http://dc.zah.uni-heidelberg.de/tap')"
   ]
  },
  {
   "cell_type": "code",
   "execution_count": 28,
   "metadata": {},
   "outputs": [
    {
     "name": "stdout",
     "output_type": "stream",
     "text": [
      "Retrieving tables...\n",
      "Parsing tables...\n",
      "Done.\n"
     ]
    }
   ],
   "source": [
    "tbl = tap.load_tables()"
   ]
  },
  {
   "cell_type": "code",
   "execution_count": 29,
   "metadata": {},
   "outputs": [
    {
     "name": "stdout",
     "output_type": "stream",
     "text": [
      "rave_obs_id\n",
      "raveid\n",
      "raj2000\n",
      "dej2000\n",
      "glon\n",
      "glat\n",
      "rv\n",
      "e_rv\n",
      "obsdate\n",
      "field_name\n",
      "plate_number\n",
      "fiber_number\n",
      "teff_k\n",
      "e_teff_k\n",
      "logg_k\n",
      "e_logg_k\n",
      "met_k\n",
      "met_n_k\n",
      "e_met_k\n",
      "snr_k\n",
      "algo_conv_k\n",
      "al\n",
      "al_n\n",
      "si\n",
      "si_n\n",
      "fe\n",
      "fe_n\n",
      "ti\n",
      "ti_n\n",
      "ni\n",
      "ni_n\n",
      "mg\n",
      "mg_n\n",
      "jmag\n",
      "e_jmag\n",
      "hmag\n",
      "e_hmag\n",
      "kmag\n",
      "e_kmag\n",
      "chisq_c\n",
      "id_2mass\n",
      "id_denis\n",
      "id_usnob1\n",
      "id_tycho2\n",
      "id_ucac4\n",
      "id_ppmxl\n",
      "parallax\n",
      "e_parallax\n",
      "dist_binney\n",
      "e_dist\n",
      "distance_modulus\n",
      "e_distance_modulus\n",
      "log_av\n",
      "e_log_av\n",
      "min_dists\n",
      "stddev_rv\n",
      "mad_rv\n",
      "stddev_teff_k\n",
      "mad_teff_k\n",
      "stddev_logg_k\n",
      "mad_logg_k\n",
      "stddev_met_k\n",
      "chisq_k\n",
      "teff_ir\n",
      "e_teff_ir\n",
      "ir_direct\n",
      "alpha_c\n",
      "frac_c\n",
      "av_schlegel\n",
      "n_gauss_fit\n",
      "gauss_mean_1\n",
      "gauss_frac_1\n",
      "gauss_mean_2\n",
      "gauss_frac_2\n",
      "gauss_mean_3\n",
      "gauss_frac_3\n",
      "rep_flag\n",
      "cluster_flag\n",
      "id_tgas\n"
     ]
    }
   ],
   "source": [
    "for t in tbl:\n",
    "    if t.get_name() == 'rave.main':\n",
    "        for c in t.get_columns():\n",
    "            print(c.get_name())\n"
   ]
  },
  {
   "cell_type": "code",
   "execution_count": 23,
   "metadata": {},
   "outputs": [
    {
     "name": "stdout",
     "output_type": "stream",
     "text": [
      "Retrieving table 'rave.main'\n",
      "Parsing table 'rave.main'...\n",
      "Done.\n"
     ]
    }
   ],
   "source": [
    "t = tap.load_table('rave.main')"
   ]
  },
  {
   "cell_type": "code",
   "execution_count": 22,
   "metadata": {},
   "outputs": [
    {
     "name": "stdout",
     "output_type": "stream",
     "text": [
      "id\n",
      "raj2000\n",
      "dej2000\n",
      "nch\n",
      "ang_error\n",
      "mjd\n",
      "atmonusubset\n",
      "origin_est\n"
     ]
    }
   ],
   "source": [
    "for c in t.get_columns():\n",
    "    print(c.get_name())"
   ]
  },
  {
   "cell_type": "code",
   "execution_count": 30,
   "metadata": {},
   "outputs": [],
   "source": [
    "from astroquery.vo_conesearch import conesearch"
   ]
  },
  {
   "cell_type": "code",
   "execution_count": 31,
   "metadata": {},
   "outputs": [
    {
     "data": {
      "text/plain": [
       "['SDSS DR7 - Sloan Digital Sky Survey Data Release 7 1',\n",
       " 'SDSS DR7 - Sloan Digital Sky Survey Data Release 7 2',\n",
       " 'SDSS DR7 - Sloan Digital Sky Survey Data Release 7 3',\n",
       " 'SDSS DR7 - Sloan Digital Sky Survey Data Release 7 4',\n",
       " 'SDSS DR8 - Sloan Digital Sky Survey Data Release 8 2',\n",
       " 'The HST Guide Star Catalog, Version 1.1 (Lasker+ 1992) 1',\n",
       " 'The HST Guide Star Catalog, Version 1.2 (Lasker+ 1996) 1',\n",
       " 'The HST Guide Star Catalog, Version GSC-ACT (Lasker+ 1996-99) 1',\n",
       " 'The PMM USNO-A1.0 Catalogue (Monet 1997) 1',\n",
       " 'The USNO-A2.0 Catalogue (Monet+ 1998) 1',\n",
       " 'Two Micron All Sky Survey (2MASS) 1',\n",
       " 'Two Micron All Sky Survey (2MASS) 2',\n",
       " 'USNO-A2 Catalogue 1']"
      ]
     },
     "execution_count": 31,
     "metadata": {},
     "output_type": "execute_result"
    }
   ],
   "source": [
    "conesearch.list_catalogs()"
   ]
  },
  {
   "cell_type": "code",
   "execution_count": 35,
   "metadata": {},
   "outputs": [],
   "source": [
    "from astroquery.vo_conesearch.validator import conf as validator_conf"
   ]
  },
  {
   "cell_type": "code",
   "execution_count": 37,
   "metadata": {},
   "outputs": [
    {
     "name": "stdout",
     "output_type": "stream",
     "text": [
      "Downloading http://vao.stsci.edu/directory/NVORegInt.asmx/VOTCapabilityPredOpt?predicate=1%3D1&capability=conesearch&VOTStyleOption=2 [Done]\n"
     ]
    }
   ],
   "source": [
    "import warnings\n",
    "from astroquery.vo_conesearch.validator import conf as validator_conf\n",
    "from astroquery.vo_conesearch.vos_catalog import VOSDatabase\n",
    "with warnings.catch_warnings():\n",
    "    warnings.simplefilter('ignore')\n",
    "    registry_db = VOSDatabase.from_registry(\n",
    "        validator_conf.conesearch_master_list, encoding='binary',\n",
    "        cache=False)"
   ]
  },
  {
   "cell_type": "code",
   "execution_count": null,
   "metadata": {},
   "outputs": [],
   "source": []
  },
  {
   "cell_type": "code",
   "execution_count": 38,
   "metadata": {},
   "outputs": [
    {
     "data": {
      "text/plain": [
       "19239"
      ]
     },
     "execution_count": 38,
     "metadata": {},
     "output_type": "execute_result"
    }
   ],
   "source": [
    "len(registry_db)"
   ]
  },
  {
   "cell_type": "code",
   "execution_count": 45,
   "metadata": {},
   "outputs": [],
   "source": [
    "catalogs = registry_db.list_catalogs()"
   ]
  },
  {
   "cell_type": "code",
   "execution_count": 64,
   "metadata": {},
   "outputs": [],
   "source": [
    "xvoc = registry_db.get_catalog('VVV Survey Band Merged JHKs 1')"
   ]
  },
  {
   "cell_type": "code",
   "execution_count": 63,
   "metadata": {},
   "outputs": [],
   "source": []
  },
  {
   "cell_type": "code",
   "execution_count": 66,
   "metadata": {},
   "outputs": [
    {
     "name": "stdout",
     "output_type": "stream",
     "text": [
      "SkyMapper Survey metal-poor star spectroscopy (Jacobson+, 2015) 1\n",
      "redMaPPer. I. Algorithm applied to SDSS DR8 (Rykoff+, 2014) 1\n",
      "redMaPPer. I. Algorithm applied to SDSS DR8 (Rykoff+, 2014) 2\n"
     ]
    }
   ],
   "source": [
    "for s in catalogs:\n",
    "    if 'mapper' in s.lower():\n",
    "        print(s)"
   ]
  },
  {
   "cell_type": "code",
   "execution_count": 50,
   "metadata": {},
   "outputs": [],
   "source": [
    "from astropy import coordinates as coord\n",
    "from astropy import units as u\n",
    "from astroquery.vo_conesearch import vos_catalog"
   ]
  },
  {
   "cell_type": "code",
   "execution_count": 57,
   "metadata": {},
   "outputs": [
    {
     "ename": "VOSError",
     "evalue": "None of the available catalogs returned valid results.",
     "output_type": "error",
     "traceback": [
      "\u001b[0;31m---------------------------------------------------------------------------\u001b[0m",
      "\u001b[0;31mVOSError\u001b[0m                                  Traceback (most recent call last)",
      "\u001b[0;32m<ipython-input-57-1334ca264cc8>\u001b[0m in \u001b[0;36m<module>\u001b[0;34m()\u001b[0m\n\u001b[1;32m      7\u001b[0m         \u001b[0mkwargs\u001b[0m\u001b[0;34m=\u001b[0m\u001b[0;34m{\u001b[0m\u001b[0;34m'RA'\u001b[0m\u001b[0;34m:\u001b[0m \u001b[0mc\u001b[0m\u001b[0;34m.\u001b[0m\u001b[0mra\u001b[0m\u001b[0;34m.\u001b[0m\u001b[0mdegree\u001b[0m\u001b[0;34m,\u001b[0m \u001b[0;34m'DEC'\u001b[0m\u001b[0;34m:\u001b[0m \u001b[0mc\u001b[0m\u001b[0;34m.\u001b[0m\u001b[0mdec\u001b[0m\u001b[0;34m.\u001b[0m\u001b[0mdegree\u001b[0m\u001b[0;34m,\u001b[0m \u001b[0;34m'SR'\u001b[0m\u001b[0;34m:\u001b[0m \u001b[0msr\u001b[0m\u001b[0;34m.\u001b[0m\u001b[0mvalue\u001b[0m\u001b[0;34m}\u001b[0m\u001b[0;34m,\u001b[0m\u001b[0;34m\u001b[0m\u001b[0m\n\u001b[1;32m      8\u001b[0m         \u001b[0mcatalog_db\u001b[0m\u001b[0;34m=\u001b[0m\u001b[0mregistry_db\u001b[0m\u001b[0;34m.\u001b[0m\u001b[0mget_catalog\u001b[0m\u001b[0;34m(\u001b[0m\u001b[0;34m'Properties of metal-poor stars in APOGEE DR13 (Hayes+, 2018) 1'\u001b[0m\u001b[0;34m)\u001b[0m\u001b[0;34m,\u001b[0m\u001b[0;34m\u001b[0m\u001b[0m\n\u001b[0;32m----> 9\u001b[0;31m         verbose=False)\n\u001b[0m",
      "\u001b[0;32m/usr/lib/python3.6/site-packages/astroquery/vo_conesearch/vos_catalog.py\u001b[0m in \u001b[0;36mcall_vo_service\u001b[0;34m(service_type, catalog_db, pedantic, verbose, cache, kwargs)\u001b[0m\n\u001b[1;32m    907\u001b[0m     \u001b[0;32mif\u001b[0m \u001b[0mn_timed_out\u001b[0m \u001b[0;34m>\u001b[0m \u001b[0;36m0\u001b[0m\u001b[0;34m:\u001b[0m\u001b[0;34m\u001b[0m\u001b[0m\n\u001b[1;32m    908\u001b[0m         \u001b[0merr_msg\u001b[0m \u001b[0;34m+=\u001b[0m \u001b[0;34m' ({0} URL(s) timed out.)'\u001b[0m\u001b[0;34m.\u001b[0m\u001b[0mformat\u001b[0m\u001b[0;34m(\u001b[0m\u001b[0mn_timed_out\u001b[0m\u001b[0;34m)\u001b[0m\u001b[0;34m\u001b[0m\u001b[0m\n\u001b[0;32m--> 909\u001b[0;31m     \u001b[0;32mraise\u001b[0m \u001b[0mVOSError\u001b[0m\u001b[0;34m(\u001b[0m\u001b[0merr_msg\u001b[0m\u001b[0;34m)\u001b[0m\u001b[0;34m\u001b[0m\u001b[0m\n\u001b[0m\u001b[1;32m    910\u001b[0m \u001b[0;34m\u001b[0m\u001b[0m\n\u001b[1;32m    911\u001b[0m \u001b[0;34m\u001b[0m\u001b[0m\n",
      "\u001b[0;31mVOSError\u001b[0m: None of the available catalogs returned valid results."
     ]
    }
   ],
   "source": [
    "c = coord.SkyCoord.from_name('47 Tuc')\n",
    "sr = 0.5 * u.degree\n",
    "with warnings.catch_warnings():\n",
    "    warnings.simplefilter('ignore')\n",
    "    result = vos_catalog.call_vo_service(\n",
    "        'conesearch_good',\n",
    "        kwargs={'RA': c.ra.degree, 'DEC': c.dec.degree, 'SR': sr.value},\n",
    "        catalog_db=registry_db.get_catalog('Properties of metal-poor stars in APOGEE DR13 (Hayes+, 2018) 1'),\n",
    "        verbose=False)"
   ]
  },
  {
   "cell_type": "code",
   "execution_count": 55,
   "metadata": {},
   "outputs": [],
   "source": [
    "vos_catalog.call_vo_service?"
   ]
  },
  {
   "cell_type": "code",
   "execution_count": 59,
   "metadata": {},
   "outputs": [],
   "source": [
    "registry_db.to_json('vo_registry.db.json')"
   ]
  },
  {
   "cell_type": "code",
   "execution_count": null,
   "metadata": {},
   "outputs": [],
   "source": []
  }
 ],
 "metadata": {
  "kernelspec": {
   "display_name": "Python 3",
   "language": "python",
   "name": "python3"
  },
  "language_info": {
   "codemirror_mode": {
    "name": "ipython",
    "version": 3
   },
   "file_extension": ".py",
   "mimetype": "text/x-python",
   "name": "python",
   "nbconvert_exporter": "python",
   "pygments_lexer": "ipython3",
   "version": "3.6.1"
  },
  "varInspector": {
   "cols": {
    "lenName": "25",
    "lenType": "25",
    "lenVar": "150"
   },
   "kernels_config": {
    "python": {
     "delete_cmd_postfix": "",
     "delete_cmd_prefix": "del ",
     "library": "var_list.py",
     "varRefreshCmd": "print(var_dic_list())"
    },
    "r": {
     "delete_cmd_postfix": ") ",
     "delete_cmd_prefix": "rm(",
     "library": "var_list.r",
     "varRefreshCmd": "cat(var_dic_list()) "
    }
   },
   "types_to_exclude": [
    "module",
    "function",
    "builtin_function_or_method",
    "instance",
    "_Feature"
   ],
   "window_display": true
  }
 },
 "nbformat": 4,
 "nbformat_minor": 2
}
