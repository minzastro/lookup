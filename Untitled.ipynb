{
 "cells": [
  {
   "cell_type": "code",
   "execution_count": 1,
   "metadata": {
    "execution": {
     "iopub.execute_input": "2020-09-07T10:29:09.938534Z",
     "iopub.status.busy": "2020-09-07T10:29:09.938325Z",
     "iopub.status.idle": "2020-09-07T10:29:09.941493Z",
     "shell.execute_reply": "2020-09-07T10:29:09.940723Z",
     "shell.execute_reply.started": "2020-09-07T10:29:09.938515Z"
    }
   },
   "outputs": [],
   "source": [
    "import numpy as np"
   ]
  },
  {
   "cell_type": "code",
   "execution_count": 8,
   "metadata": {
    "execution": {
     "iopub.execute_input": "2020-09-07T10:32:33.571355Z",
     "iopub.status.busy": "2020-09-07T10:32:33.571153Z",
     "iopub.status.idle": "2020-09-07T10:32:33.574130Z",
     "shell.execute_reply": "2020-09-07T10:32:33.573374Z",
     "shell.execute_reply.started": "2020-09-07T10:32:33.571335Z"
    }
   },
   "outputs": [],
   "source": [
    "from providers.boxtap import BoxTapLookup"
   ]
  },
  {
   "cell_type": "code",
   "execution_count": 9,
   "metadata": {
    "execution": {
     "iopub.execute_input": "2020-09-07T10:32:44.365362Z",
     "iopub.status.busy": "2020-09-07T10:32:44.365104Z",
     "iopub.status.idle": "2020-09-07T10:32:44.368163Z",
     "shell.execute_reply": "2020-09-07T10:32:44.367367Z",
     "shell.execute_reply.started": "2020-09-07T10:32:44.365339Z"
    }
   },
   "outputs": [],
   "source": [
    "tap = BoxTapLookup()"
   ]
  },
  {
   "cell_type": "code",
   "execution_count": 12,
   "metadata": {
    "execution": {
     "iopub.execute_input": "2020-09-07T10:33:13.219799Z",
     "iopub.status.busy": "2020-09-07T10:33:13.219599Z",
     "iopub.status.idle": "2020-09-07T10:33:13.223261Z",
     "shell.execute_reply": "2020-09-07T10:33:13.222560Z",
     "shell.execute_reply.started": "2020-09-07T10:33:13.219779Z"
    }
   },
   "outputs": [
    {
     "name": "stdout",
     "output_type": "stream",
     "text": [
      "SELECT objID,ra, dec, classMagB, classMagR1, classMagR2\n",
      "        FROM source\n",
      "        where ra between 0.9994858845228665 and 1.0005141154771335\n",
      "          and dec between 0.9997222222222222 and 1.0002777777777778\n",
      "        AND Nplates > 0\n",
      "        \n"
     ]
    }
   ],
   "source": [
    "print(tap._prepare_sql('SSA', 1, 1, 1))"
   ]
  },
  {
   "cell_type": "code",
   "execution_count": 13,
   "metadata": {
    "execution": {
     "iopub.execute_input": "2020-09-07T10:34:27.913760Z",
     "iopub.status.busy": "2020-09-07T10:34:27.913574Z",
     "iopub.status.idle": "2020-09-07T10:34:27.916193Z",
     "shell.execute_reply": "2020-09-07T10:34:27.915730Z",
     "shell.execute_reply.started": "2020-09-07T10:34:27.913742Z"
    }
   },
   "outputs": [],
   "source": [
    "from astroquery.utils.tap.core import TapPlus"
   ]
  },
  {
   "cell_type": "code",
   "execution_count": 14,
   "metadata": {
    "execution": {
     "iopub.execute_input": "2020-09-07T10:34:33.370558Z",
     "iopub.status.busy": "2020-09-07T10:34:33.370216Z",
     "iopub.status.idle": "2020-09-07T10:34:33.374100Z",
     "shell.execute_reply": "2020-09-07T10:34:33.373382Z",
     "shell.execute_reply.started": "2020-09-07T10:34:33.370530Z"
    }
   },
   "outputs": [
    {
     "name": "stdout",
     "output_type": "stream",
     "text": [
      "Created TAP+ (v1.2.1) - Connection:\n",
      "\tHost: dc.zah.uni-heidelberg.de\n",
      "\tUse HTTPS: False\n",
      "\tPort: 80\n",
      "\tSSL Port: 443\n"
     ]
    }
   ],
   "source": [
    "tap = TapPlus('http://dc.zah.uni-heidelberg.de/__system__/tap/run/tap')\n"
   ]
  },
  {
   "cell_type": "code",
   "execution_count": 24,
   "metadata": {
    "execution": {
     "iopub.execute_input": "2020-09-09T09:15:25.245085Z",
     "iopub.status.busy": "2020-09-09T09:15:25.244867Z",
     "iopub.status.idle": "2020-09-09T09:15:25.247676Z",
     "shell.execute_reply": "2020-09-09T09:15:25.246977Z",
     "shell.execute_reply.started": "2020-09-09T09:15:25.245064Z"
    }
   },
   "outputs": [],
   "source": [
    "sql = f\"\"\"SELECT\n",
    "   TOP 1000\n",
    "   *\n",
    "   FROM bgds.phot_all\n",
    "   WHERE \n",
    "      1=CONTAINS(POINT('ICRS', ra, dec),\n",
    "                 CIRCLE('ICRS', 111.2, -22.21, 0.5 ))\n",
    "\"\"\""
   ]
  },
  {
   "cell_type": "code",
   "execution_count": 25,
   "metadata": {
    "execution": {
     "iopub.execute_input": "2020-09-09T09:15:26.395602Z",
     "iopub.status.busy": "2020-09-09T09:15:26.395379Z",
     "iopub.status.idle": "2020-09-09T09:15:26.842530Z",
     "shell.execute_reply": "2020-09-09T09:15:26.841913Z",
     "shell.execute_reply.started": "2020-09-09T09:15:26.395581Z"
    }
   },
   "outputs": [
    {
     "data": {
      "text/plain": [
       "<astroquery.utils.tap.model.job.Job at 0x7f5fef6c0f40>"
      ]
     },
     "execution_count": 25,
     "metadata": {},
     "output_type": "execute_result"
    }
   ],
   "source": [
    "tap.launch_job(sql)"
   ]
  },
  {
   "cell_type": "code",
   "execution_count": 26,
   "metadata": {
    "execution": {
     "iopub.execute_input": "2020-09-09T09:15:27.436992Z",
     "iopub.status.busy": "2020-09-09T09:15:27.436760Z",
     "iopub.status.idle": "2020-09-09T09:15:27.481043Z",
     "shell.execute_reply": "2020-09-09T09:15:27.480183Z",
     "shell.execute_reply.started": "2020-09-09T09:15:27.436970Z"
    }
   },
   "outputs": [
    {
     "name": "stdout",
     "output_type": "stream",
     "text": [
      "Retrieving data.\n"
     ]
    },
    {
     "ename": "ValueError",
     "evalue": "Parameters dictionary expected",
     "output_type": "error",
     "traceback": [
      "\u001b[0;31m---------------------------------------------------------------------------\u001b[0m",
      "\u001b[0;31mValueError\u001b[0m                                Traceback (most recent call last)",
      "\u001b[0;32m<ipython-input-26-a029902b5826>\u001b[0m in \u001b[0;36m<module>\u001b[0;34m\u001b[0m\n\u001b[0;32m----> 1\u001b[0;31m \u001b[0mresult\u001b[0m \u001b[0;34m=\u001b[0m \u001b[0mtap\u001b[0m\u001b[0;34m.\u001b[0m\u001b[0mload_data\u001b[0m\u001b[0;34m(\u001b[0m\u001b[0;34m)\u001b[0m\u001b[0;34m\u001b[0m\u001b[0;34m\u001b[0m\u001b[0m\n\u001b[0m",
      "\u001b[0;32m/usr/local/lib/python3.8/site-packages/astroquery/utils/tap/core.py\u001b[0m in \u001b[0;36mload_data\u001b[0;34m(self, params_dict, output_file, verbose)\u001b[0m\n\u001b[1;32m    830\u001b[0m         \u001b[0mconnHandler\u001b[0m \u001b[0;34m=\u001b[0m \u001b[0mself\u001b[0m\u001b[0;34m.\u001b[0m\u001b[0m__getconnhandler\u001b[0m\u001b[0;34m(\u001b[0m\u001b[0;34m)\u001b[0m\u001b[0;34m\u001b[0m\u001b[0;34m\u001b[0m\u001b[0m\n\u001b[1;32m    831\u001b[0m         \u001b[0;32mif\u001b[0m \u001b[0;32mnot\u001b[0m \u001b[0misinstance\u001b[0m\u001b[0;34m(\u001b[0m\u001b[0mparams_dict\u001b[0m\u001b[0;34m,\u001b[0m \u001b[0mdict\u001b[0m\u001b[0;34m)\u001b[0m\u001b[0;34m:\u001b[0m\u001b[0;34m\u001b[0m\u001b[0;34m\u001b[0m\u001b[0m\n\u001b[0;32m--> 832\u001b[0;31m             \u001b[0;32mraise\u001b[0m \u001b[0mValueError\u001b[0m\u001b[0;34m(\u001b[0m\u001b[0;34m\"Parameters dictionary expected\"\u001b[0m\u001b[0;34m)\u001b[0m\u001b[0;34m\u001b[0m\u001b[0;34m\u001b[0m\u001b[0m\n\u001b[0m\u001b[1;32m    833\u001b[0m         \u001b[0mdata\u001b[0m \u001b[0;34m=\u001b[0m \u001b[0mconnHandler\u001b[0m\u001b[0;34m.\u001b[0m\u001b[0murl_encode\u001b[0m\u001b[0;34m(\u001b[0m\u001b[0mparams_dict\u001b[0m\u001b[0;34m)\u001b[0m\u001b[0;34m\u001b[0m\u001b[0;34m\u001b[0m\u001b[0m\n\u001b[1;32m    834\u001b[0m         \u001b[0;32mif\u001b[0m \u001b[0mverbose\u001b[0m\u001b[0;34m:\u001b[0m\u001b[0;34m\u001b[0m\u001b[0;34m\u001b[0m\u001b[0m\n",
      "\u001b[0;31mValueError\u001b[0m: Parameters dictionary expected"
     ]
    }
   ],
   "source": [
    "result = tap.load_data()"
   ]
  },
  {
   "cell_type": "code",
   "execution_count": null,
   "metadata": {},
   "outputs": [],
   "source": []
  }
 ],
 "metadata": {
  "kernelspec": {
   "display_name": "Python 3",
   "language": "python",
   "name": "python3"
  },
  "language_info": {
   "codemirror_mode": {
    "name": "ipython",
    "version": 3
   },
   "file_extension": ".py",
   "mimetype": "text/x-python",
   "name": "python",
   "nbconvert_exporter": "python",
   "pygments_lexer": "ipython3",
   "version": "3.8.4"
  }
 },
 "nbformat": 4,
 "nbformat_minor": 4
}
